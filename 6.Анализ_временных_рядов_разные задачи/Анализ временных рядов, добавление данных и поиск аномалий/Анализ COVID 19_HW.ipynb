{
 "cells": [
  {
   "cell_type": "code",
   "execution_count": 1,
   "metadata": {},
   "outputs": [],
   "source": [
    "import pandas as pd\n",
    "import numpy as np\n",
    "\n",
    "import matplotlib.pyplot as plt"
   ]
  },
  {
   "cell_type": "markdown",
   "metadata": {},
   "source": [
    "\n",
    "## Данные для анализа\n",
    "\n",
    "https://www.kaggle.com/sudalairajkumar/novel-corona-virus-2019-dataset#covid_19_data.csv\n",
    "\n",
    "\n",
    "Прочитаем ежеденевно обновляемые данные из ссылки и загрузим себе."
   ]
  },
  {
   "cell_type": "code",
   "execution_count": 2,
   "metadata": {},
   "outputs": [
    {
     "data": {
      "text/html": [
       "<div>\n",
       "<style scoped>\n",
       "    .dataframe tbody tr th:only-of-type {\n",
       "        vertical-align: middle;\n",
       "    }\n",
       "\n",
       "    .dataframe tbody tr th {\n",
       "        vertical-align: top;\n",
       "    }\n",
       "\n",
       "    .dataframe thead th {\n",
       "        text-align: right;\n",
       "    }\n",
       "</style>\n",
       "<table border=\"1\" class=\"dataframe\">\n",
       "  <thead>\n",
       "    <tr style=\"text-align: right;\">\n",
       "      <th></th>\n",
       "      <th>SNo</th>\n",
       "      <th>ObservationDate</th>\n",
       "      <th>Province/State</th>\n",
       "      <th>Country/Region</th>\n",
       "      <th>Last Update</th>\n",
       "      <th>Confirmed</th>\n",
       "      <th>Deaths</th>\n",
       "      <th>Recovered</th>\n",
       "    </tr>\n",
       "  </thead>\n",
       "  <tbody>\n",
       "    <tr>\n",
       "      <th>0</th>\n",
       "      <td>1</td>\n",
       "      <td>01/22/2020</td>\n",
       "      <td>Anhui</td>\n",
       "      <td>Mainland China</td>\n",
       "      <td>1/22/2020 17:00</td>\n",
       "      <td>1.0</td>\n",
       "      <td>0.0</td>\n",
       "      <td>0.0</td>\n",
       "    </tr>\n",
       "    <tr>\n",
       "      <th>1</th>\n",
       "      <td>2</td>\n",
       "      <td>01/22/2020</td>\n",
       "      <td>Beijing</td>\n",
       "      <td>Mainland China</td>\n",
       "      <td>1/22/2020 17:00</td>\n",
       "      <td>14.0</td>\n",
       "      <td>0.0</td>\n",
       "      <td>0.0</td>\n",
       "    </tr>\n",
       "    <tr>\n",
       "      <th>2</th>\n",
       "      <td>3</td>\n",
       "      <td>01/22/2020</td>\n",
       "      <td>Chongqing</td>\n",
       "      <td>Mainland China</td>\n",
       "      <td>1/22/2020 17:00</td>\n",
       "      <td>6.0</td>\n",
       "      <td>0.0</td>\n",
       "      <td>0.0</td>\n",
       "    </tr>\n",
       "    <tr>\n",
       "      <th>3</th>\n",
       "      <td>4</td>\n",
       "      <td>01/22/2020</td>\n",
       "      <td>Fujian</td>\n",
       "      <td>Mainland China</td>\n",
       "      <td>1/22/2020 17:00</td>\n",
       "      <td>1.0</td>\n",
       "      <td>0.0</td>\n",
       "      <td>0.0</td>\n",
       "    </tr>\n",
       "    <tr>\n",
       "      <th>4</th>\n",
       "      <td>5</td>\n",
       "      <td>01/22/2020</td>\n",
       "      <td>Gansu</td>\n",
       "      <td>Mainland China</td>\n",
       "      <td>1/22/2020 17:00</td>\n",
       "      <td>0.0</td>\n",
       "      <td>0.0</td>\n",
       "      <td>0.0</td>\n",
       "    </tr>\n",
       "    <tr>\n",
       "      <th>5</th>\n",
       "      <td>6</td>\n",
       "      <td>01/22/2020</td>\n",
       "      <td>Guangdong</td>\n",
       "      <td>Mainland China</td>\n",
       "      <td>1/22/2020 17:00</td>\n",
       "      <td>26.0</td>\n",
       "      <td>0.0</td>\n",
       "      <td>0.0</td>\n",
       "    </tr>\n",
       "    <tr>\n",
       "      <th>6</th>\n",
       "      <td>7</td>\n",
       "      <td>01/22/2020</td>\n",
       "      <td>Guangxi</td>\n",
       "      <td>Mainland China</td>\n",
       "      <td>1/22/2020 17:00</td>\n",
       "      <td>2.0</td>\n",
       "      <td>0.0</td>\n",
       "      <td>0.0</td>\n",
       "    </tr>\n",
       "    <tr>\n",
       "      <th>7</th>\n",
       "      <td>8</td>\n",
       "      <td>01/22/2020</td>\n",
       "      <td>Guizhou</td>\n",
       "      <td>Mainland China</td>\n",
       "      <td>1/22/2020 17:00</td>\n",
       "      <td>1.0</td>\n",
       "      <td>0.0</td>\n",
       "      <td>0.0</td>\n",
       "    </tr>\n",
       "    <tr>\n",
       "      <th>8</th>\n",
       "      <td>9</td>\n",
       "      <td>01/22/2020</td>\n",
       "      <td>Hainan</td>\n",
       "      <td>Mainland China</td>\n",
       "      <td>1/22/2020 17:00</td>\n",
       "      <td>4.0</td>\n",
       "      <td>0.0</td>\n",
       "      <td>0.0</td>\n",
       "    </tr>\n",
       "    <tr>\n",
       "      <th>9</th>\n",
       "      <td>10</td>\n",
       "      <td>01/22/2020</td>\n",
       "      <td>Hebei</td>\n",
       "      <td>Mainland China</td>\n",
       "      <td>1/22/2020 17:00</td>\n",
       "      <td>1.0</td>\n",
       "      <td>0.0</td>\n",
       "      <td>0.0</td>\n",
       "    </tr>\n",
       "    <tr>\n",
       "      <th>10</th>\n",
       "      <td>11</td>\n",
       "      <td>01/22/2020</td>\n",
       "      <td>Heilongjiang</td>\n",
       "      <td>Mainland China</td>\n",
       "      <td>1/22/2020 17:00</td>\n",
       "      <td>0.0</td>\n",
       "      <td>0.0</td>\n",
       "      <td>0.0</td>\n",
       "    </tr>\n",
       "    <tr>\n",
       "      <th>11</th>\n",
       "      <td>12</td>\n",
       "      <td>01/22/2020</td>\n",
       "      <td>Henan</td>\n",
       "      <td>Mainland China</td>\n",
       "      <td>1/22/2020 17:00</td>\n",
       "      <td>5.0</td>\n",
       "      <td>0.0</td>\n",
       "      <td>0.0</td>\n",
       "    </tr>\n",
       "    <tr>\n",
       "      <th>12</th>\n",
       "      <td>13</td>\n",
       "      <td>01/22/2020</td>\n",
       "      <td>Hong Kong</td>\n",
       "      <td>Hong Kong</td>\n",
       "      <td>1/22/2020 17:00</td>\n",
       "      <td>0.0</td>\n",
       "      <td>0.0</td>\n",
       "      <td>0.0</td>\n",
       "    </tr>\n",
       "    <tr>\n",
       "      <th>13</th>\n",
       "      <td>14</td>\n",
       "      <td>01/22/2020</td>\n",
       "      <td>Hubei</td>\n",
       "      <td>Mainland China</td>\n",
       "      <td>1/22/2020 17:00</td>\n",
       "      <td>444.0</td>\n",
       "      <td>17.0</td>\n",
       "      <td>28.0</td>\n",
       "    </tr>\n",
       "    <tr>\n",
       "      <th>14</th>\n",
       "      <td>15</td>\n",
       "      <td>01/22/2020</td>\n",
       "      <td>Hunan</td>\n",
       "      <td>Mainland China</td>\n",
       "      <td>1/22/2020 17:00</td>\n",
       "      <td>4.0</td>\n",
       "      <td>0.0</td>\n",
       "      <td>0.0</td>\n",
       "    </tr>\n",
       "    <tr>\n",
       "      <th>15</th>\n",
       "      <td>16</td>\n",
       "      <td>01/22/2020</td>\n",
       "      <td>Inner Mongolia</td>\n",
       "      <td>Mainland China</td>\n",
       "      <td>1/22/2020 17:00</td>\n",
       "      <td>0.0</td>\n",
       "      <td>0.0</td>\n",
       "      <td>0.0</td>\n",
       "    </tr>\n",
       "    <tr>\n",
       "      <th>16</th>\n",
       "      <td>17</td>\n",
       "      <td>01/22/2020</td>\n",
       "      <td>Jiangsu</td>\n",
       "      <td>Mainland China</td>\n",
       "      <td>1/22/2020 17:00</td>\n",
       "      <td>1.0</td>\n",
       "      <td>0.0</td>\n",
       "      <td>0.0</td>\n",
       "    </tr>\n",
       "    <tr>\n",
       "      <th>17</th>\n",
       "      <td>18</td>\n",
       "      <td>01/22/2020</td>\n",
       "      <td>Jiangxi</td>\n",
       "      <td>Mainland China</td>\n",
       "      <td>1/22/2020 17:00</td>\n",
       "      <td>2.0</td>\n",
       "      <td>0.0</td>\n",
       "      <td>0.0</td>\n",
       "    </tr>\n",
       "    <tr>\n",
       "      <th>18</th>\n",
       "      <td>19</td>\n",
       "      <td>01/22/2020</td>\n",
       "      <td>Jilin</td>\n",
       "      <td>Mainland China</td>\n",
       "      <td>1/22/2020 17:00</td>\n",
       "      <td>0.0</td>\n",
       "      <td>0.0</td>\n",
       "      <td>0.0</td>\n",
       "    </tr>\n",
       "    <tr>\n",
       "      <th>19</th>\n",
       "      <td>20</td>\n",
       "      <td>01/22/2020</td>\n",
       "      <td>Liaoning</td>\n",
       "      <td>Mainland China</td>\n",
       "      <td>1/22/2020 17:00</td>\n",
       "      <td>2.0</td>\n",
       "      <td>0.0</td>\n",
       "      <td>0.0</td>\n",
       "    </tr>\n",
       "  </tbody>\n",
       "</table>\n",
       "</div>"
      ],
      "text/plain": [
       "    SNo ObservationDate  Province/State  Country/Region      Last Update  \\\n",
       "0     1      01/22/2020           Anhui  Mainland China  1/22/2020 17:00   \n",
       "1     2      01/22/2020         Beijing  Mainland China  1/22/2020 17:00   \n",
       "2     3      01/22/2020       Chongqing  Mainland China  1/22/2020 17:00   \n",
       "3     4      01/22/2020          Fujian  Mainland China  1/22/2020 17:00   \n",
       "4     5      01/22/2020           Gansu  Mainland China  1/22/2020 17:00   \n",
       "5     6      01/22/2020       Guangdong  Mainland China  1/22/2020 17:00   \n",
       "6     7      01/22/2020         Guangxi  Mainland China  1/22/2020 17:00   \n",
       "7     8      01/22/2020         Guizhou  Mainland China  1/22/2020 17:00   \n",
       "8     9      01/22/2020          Hainan  Mainland China  1/22/2020 17:00   \n",
       "9    10      01/22/2020           Hebei  Mainland China  1/22/2020 17:00   \n",
       "10   11      01/22/2020    Heilongjiang  Mainland China  1/22/2020 17:00   \n",
       "11   12      01/22/2020           Henan  Mainland China  1/22/2020 17:00   \n",
       "12   13      01/22/2020       Hong Kong       Hong Kong  1/22/2020 17:00   \n",
       "13   14      01/22/2020           Hubei  Mainland China  1/22/2020 17:00   \n",
       "14   15      01/22/2020           Hunan  Mainland China  1/22/2020 17:00   \n",
       "15   16      01/22/2020  Inner Mongolia  Mainland China  1/22/2020 17:00   \n",
       "16   17      01/22/2020         Jiangsu  Mainland China  1/22/2020 17:00   \n",
       "17   18      01/22/2020         Jiangxi  Mainland China  1/22/2020 17:00   \n",
       "18   19      01/22/2020           Jilin  Mainland China  1/22/2020 17:00   \n",
       "19   20      01/22/2020        Liaoning  Mainland China  1/22/2020 17:00   \n",
       "\n",
       "    Confirmed  Deaths  Recovered  \n",
       "0         1.0     0.0        0.0  \n",
       "1        14.0     0.0        0.0  \n",
       "2         6.0     0.0        0.0  \n",
       "3         1.0     0.0        0.0  \n",
       "4         0.0     0.0        0.0  \n",
       "5        26.0     0.0        0.0  \n",
       "6         2.0     0.0        0.0  \n",
       "7         1.0     0.0        0.0  \n",
       "8         4.0     0.0        0.0  \n",
       "9         1.0     0.0        0.0  \n",
       "10        0.0     0.0        0.0  \n",
       "11        5.0     0.0        0.0  \n",
       "12        0.0     0.0        0.0  \n",
       "13      444.0    17.0       28.0  \n",
       "14        4.0     0.0        0.0  \n",
       "15        0.0     0.0        0.0  \n",
       "16        1.0     0.0        0.0  \n",
       "17        2.0     0.0        0.0  \n",
       "18        0.0     0.0        0.0  \n",
       "19        2.0     0.0        0.0  "
      ]
     },
     "execution_count": 2,
     "metadata": {},
     "output_type": "execute_result"
    }
   ],
   "source": [
    "COVID_ = pd.read_csv('covid_19_data.csv')\n",
    "COVID_.head(20)"
   ]
  },
  {
   "cell_type": "code",
   "execution_count": 3,
   "metadata": {},
   "outputs": [
    {
     "data": {
      "text/html": [
       "<div>\n",
       "<style scoped>\n",
       "    .dataframe tbody tr th:only-of-type {\n",
       "        vertical-align: middle;\n",
       "    }\n",
       "\n",
       "    .dataframe tbody tr th {\n",
       "        vertical-align: top;\n",
       "    }\n",
       "\n",
       "    .dataframe thead th {\n",
       "        text-align: right;\n",
       "    }\n",
       "</style>\n",
       "<table border=\"1\" class=\"dataframe\">\n",
       "  <thead>\n",
       "    <tr style=\"text-align: right;\">\n",
       "      <th></th>\n",
       "      <th>SNo</th>\n",
       "      <th>ObservationDate</th>\n",
       "      <th>Province/State</th>\n",
       "      <th>Country/Region</th>\n",
       "      <th>Last Update</th>\n",
       "      <th>Confirmed</th>\n",
       "      <th>Deaths</th>\n",
       "      <th>Recovered</th>\n",
       "    </tr>\n",
       "  </thead>\n",
       "  <tbody>\n",
       "    <tr>\n",
       "      <th>25954</th>\n",
       "      <td>25955</td>\n",
       "      <td>05/17/2020</td>\n",
       "      <td>Wyoming</td>\n",
       "      <td>US</td>\n",
       "      <td>2020-05-18 02:32:21</td>\n",
       "      <td>754.0</td>\n",
       "      <td>8.0</td>\n",
       "      <td>0.0</td>\n",
       "    </tr>\n",
       "    <tr>\n",
       "      <th>25955</th>\n",
       "      <td>25956</td>\n",
       "      <td>05/17/2020</td>\n",
       "      <td>Xinjiang</td>\n",
       "      <td>Mainland China</td>\n",
       "      <td>2020-05-18 02:32:21</td>\n",
       "      <td>76.0</td>\n",
       "      <td>3.0</td>\n",
       "      <td>73.0</td>\n",
       "    </tr>\n",
       "    <tr>\n",
       "      <th>25956</th>\n",
       "      <td>25957</td>\n",
       "      <td>05/17/2020</td>\n",
       "      <td>Yukon</td>\n",
       "      <td>Canada</td>\n",
       "      <td>2020-05-18 02:32:21</td>\n",
       "      <td>11.0</td>\n",
       "      <td>0.0</td>\n",
       "      <td>11.0</td>\n",
       "    </tr>\n",
       "    <tr>\n",
       "      <th>25957</th>\n",
       "      <td>25958</td>\n",
       "      <td>05/17/2020</td>\n",
       "      <td>Yunnan</td>\n",
       "      <td>Mainland China</td>\n",
       "      <td>2020-05-18 02:32:21</td>\n",
       "      <td>185.0</td>\n",
       "      <td>2.0</td>\n",
       "      <td>183.0</td>\n",
       "    </tr>\n",
       "    <tr>\n",
       "      <th>25958</th>\n",
       "      <td>25959</td>\n",
       "      <td>05/17/2020</td>\n",
       "      <td>Zhejiang</td>\n",
       "      <td>Mainland China</td>\n",
       "      <td>2020-05-18 02:32:21</td>\n",
       "      <td>1268.0</td>\n",
       "      <td>1.0</td>\n",
       "      <td>1267.0</td>\n",
       "    </tr>\n",
       "  </tbody>\n",
       "</table>\n",
       "</div>"
      ],
      "text/plain": [
       "         SNo ObservationDate Province/State  Country/Region  \\\n",
       "25954  25955      05/17/2020        Wyoming              US   \n",
       "25955  25956      05/17/2020       Xinjiang  Mainland China   \n",
       "25956  25957      05/17/2020          Yukon          Canada   \n",
       "25957  25958      05/17/2020         Yunnan  Mainland China   \n",
       "25958  25959      05/17/2020       Zhejiang  Mainland China   \n",
       "\n",
       "               Last Update  Confirmed  Deaths  Recovered  \n",
       "25954  2020-05-18 02:32:21      754.0     8.0        0.0  \n",
       "25955  2020-05-18 02:32:21       76.0     3.0       73.0  \n",
       "25956  2020-05-18 02:32:21       11.0     0.0       11.0  \n",
       "25957  2020-05-18 02:32:21      185.0     2.0      183.0  \n",
       "25958  2020-05-18 02:32:21     1268.0     1.0     1267.0  "
      ]
     },
     "execution_count": 3,
     "metadata": {},
     "output_type": "execute_result"
    }
   ],
   "source": [
    "COVID_.tail()"
   ]
  },
  {
   "cell_type": "markdown",
   "metadata": {},
   "source": [
    "Выносим дату отдельным столбцом и делаем копии"
   ]
  },
  {
   "cell_type": "code",
   "execution_count": 4,
   "metadata": {},
   "outputs": [],
   "source": [
    "COVID = COVID_.copy()\n",
    "COVID_['Data']= pd.to_datetime(COVID_['ObservationDate']).dt.date\n",
    "COVID['Data']= pd.to_datetime(COVID['ObservationDate']).dt.date\n"
   ]
  },
  {
   "cell_type": "markdown",
   "metadata": {},
   "source": [
    "Группируем по странам (без провинций) и дате измерения"
   ]
  },
  {
   "cell_type": "code",
   "execution_count": 5,
   "metadata": {},
   "outputs": [
    {
     "name": "stderr",
     "output_type": "stream",
     "text": [
      "C:\\Anaconda\\lib\\site-packages\\ipykernel_launcher.py:1: FutureWarning: Indexing with multiple keys (implicitly converted to a tuple of keys) will be deprecated, use a list instead.\n",
      "  \"\"\"Entry point for launching an IPython kernel.\n"
     ]
    }
   ],
   "source": [
    "COVID = COVID.groupby(['Data','Country/Region'])['Confirmed','Deaths','Recovered'].sum()"
   ]
  },
  {
   "cell_type": "code",
   "execution_count": 6,
   "metadata": {},
   "outputs": [
    {
     "data": {
      "text/html": [
       "<div>\n",
       "<style scoped>\n",
       "    .dataframe tbody tr th:only-of-type {\n",
       "        vertical-align: middle;\n",
       "    }\n",
       "\n",
       "    .dataframe tbody tr th {\n",
       "        vertical-align: top;\n",
       "    }\n",
       "\n",
       "    .dataframe thead th {\n",
       "        text-align: right;\n",
       "    }\n",
       "</style>\n",
       "<table border=\"1\" class=\"dataframe\">\n",
       "  <thead>\n",
       "    <tr style=\"text-align: right;\">\n",
       "      <th></th>\n",
       "      <th></th>\n",
       "      <th>Confirmed</th>\n",
       "      <th>Deaths</th>\n",
       "      <th>Recovered</th>\n",
       "    </tr>\n",
       "    <tr>\n",
       "      <th>Data</th>\n",
       "      <th>Country/Region</th>\n",
       "      <th></th>\n",
       "      <th></th>\n",
       "      <th></th>\n",
       "    </tr>\n",
       "  </thead>\n",
       "  <tbody>\n",
       "    <tr>\n",
       "      <th rowspan=\"8\" valign=\"top\">2020-01-22</th>\n",
       "      <th>Hong Kong</th>\n",
       "      <td>0.0</td>\n",
       "      <td>0.0</td>\n",
       "      <td>0.0</td>\n",
       "    </tr>\n",
       "    <tr>\n",
       "      <th>Japan</th>\n",
       "      <td>2.0</td>\n",
       "      <td>0.0</td>\n",
       "      <td>0.0</td>\n",
       "    </tr>\n",
       "    <tr>\n",
       "      <th>Macau</th>\n",
       "      <td>1.0</td>\n",
       "      <td>0.0</td>\n",
       "      <td>0.0</td>\n",
       "    </tr>\n",
       "    <tr>\n",
       "      <th>Mainland China</th>\n",
       "      <td>547.0</td>\n",
       "      <td>17.0</td>\n",
       "      <td>28.0</td>\n",
       "    </tr>\n",
       "    <tr>\n",
       "      <th>South Korea</th>\n",
       "      <td>1.0</td>\n",
       "      <td>0.0</td>\n",
       "      <td>0.0</td>\n",
       "    </tr>\n",
       "    <tr>\n",
       "      <th>Taiwan</th>\n",
       "      <td>1.0</td>\n",
       "      <td>0.0</td>\n",
       "      <td>0.0</td>\n",
       "    </tr>\n",
       "    <tr>\n",
       "      <th>Thailand</th>\n",
       "      <td>2.0</td>\n",
       "      <td>0.0</td>\n",
       "      <td>0.0</td>\n",
       "    </tr>\n",
       "    <tr>\n",
       "      <th>US</th>\n",
       "      <td>1.0</td>\n",
       "      <td>0.0</td>\n",
       "      <td>0.0</td>\n",
       "    </tr>\n",
       "    <tr>\n",
       "      <th rowspan=\"16\" valign=\"top\">2020-01-23</th>\n",
       "      <th>Australia</th>\n",
       "      <td>0.0</td>\n",
       "      <td>0.0</td>\n",
       "      <td>0.0</td>\n",
       "    </tr>\n",
       "    <tr>\n",
       "      <th>Brazil</th>\n",
       "      <td>0.0</td>\n",
       "      <td>0.0</td>\n",
       "      <td>0.0</td>\n",
       "    </tr>\n",
       "    <tr>\n",
       "      <th>Colombia</th>\n",
       "      <td>0.0</td>\n",
       "      <td>0.0</td>\n",
       "      <td>0.0</td>\n",
       "    </tr>\n",
       "    <tr>\n",
       "      <th>Hong Kong</th>\n",
       "      <td>2.0</td>\n",
       "      <td>0.0</td>\n",
       "      <td>0.0</td>\n",
       "    </tr>\n",
       "    <tr>\n",
       "      <th>Japan</th>\n",
       "      <td>1.0</td>\n",
       "      <td>0.0</td>\n",
       "      <td>0.0</td>\n",
       "    </tr>\n",
       "    <tr>\n",
       "      <th>Macau</th>\n",
       "      <td>2.0</td>\n",
       "      <td>0.0</td>\n",
       "      <td>0.0</td>\n",
       "    </tr>\n",
       "    <tr>\n",
       "      <th>Mainland China</th>\n",
       "      <td>639.0</td>\n",
       "      <td>18.0</td>\n",
       "      <td>30.0</td>\n",
       "    </tr>\n",
       "    <tr>\n",
       "      <th>Malaysia</th>\n",
       "      <td>0.0</td>\n",
       "      <td>0.0</td>\n",
       "      <td>0.0</td>\n",
       "    </tr>\n",
       "    <tr>\n",
       "      <th>Mexico</th>\n",
       "      <td>0.0</td>\n",
       "      <td>0.0</td>\n",
       "      <td>0.0</td>\n",
       "    </tr>\n",
       "    <tr>\n",
       "      <th>Philippines</th>\n",
       "      <td>0.0</td>\n",
       "      <td>0.0</td>\n",
       "      <td>0.0</td>\n",
       "    </tr>\n",
       "    <tr>\n",
       "      <th>Singapore</th>\n",
       "      <td>1.0</td>\n",
       "      <td>0.0</td>\n",
       "      <td>0.0</td>\n",
       "    </tr>\n",
       "    <tr>\n",
       "      <th>South Korea</th>\n",
       "      <td>1.0</td>\n",
       "      <td>0.0</td>\n",
       "      <td>0.0</td>\n",
       "    </tr>\n",
       "    <tr>\n",
       "      <th>Taiwan</th>\n",
       "      <td>1.0</td>\n",
       "      <td>0.0</td>\n",
       "      <td>0.0</td>\n",
       "    </tr>\n",
       "    <tr>\n",
       "      <th>Thailand</th>\n",
       "      <td>3.0</td>\n",
       "      <td>0.0</td>\n",
       "      <td>0.0</td>\n",
       "    </tr>\n",
       "    <tr>\n",
       "      <th>US</th>\n",
       "      <td>1.0</td>\n",
       "      <td>0.0</td>\n",
       "      <td>0.0</td>\n",
       "    </tr>\n",
       "    <tr>\n",
       "      <th>Vietnam</th>\n",
       "      <td>2.0</td>\n",
       "      <td>0.0</td>\n",
       "      <td>0.0</td>\n",
       "    </tr>\n",
       "    <tr>\n",
       "      <th rowspan=\"6\" valign=\"top\">2020-01-24</th>\n",
       "      <th>France</th>\n",
       "      <td>2.0</td>\n",
       "      <td>0.0</td>\n",
       "      <td>0.0</td>\n",
       "    </tr>\n",
       "    <tr>\n",
       "      <th>Hong Kong</th>\n",
       "      <td>2.0</td>\n",
       "      <td>0.0</td>\n",
       "      <td>0.0</td>\n",
       "    </tr>\n",
       "    <tr>\n",
       "      <th>Japan</th>\n",
       "      <td>2.0</td>\n",
       "      <td>0.0</td>\n",
       "      <td>0.0</td>\n",
       "    </tr>\n",
       "    <tr>\n",
       "      <th>Macau</th>\n",
       "      <td>2.0</td>\n",
       "      <td>0.0</td>\n",
       "      <td>0.0</td>\n",
       "    </tr>\n",
       "    <tr>\n",
       "      <th>Mainland China</th>\n",
       "      <td>916.0</td>\n",
       "      <td>26.0</td>\n",
       "      <td>36.0</td>\n",
       "    </tr>\n",
       "    <tr>\n",
       "      <th>Singapore</th>\n",
       "      <td>3.0</td>\n",
       "      <td>0.0</td>\n",
       "      <td>0.0</td>\n",
       "    </tr>\n",
       "  </tbody>\n",
       "</table>\n",
       "</div>"
      ],
      "text/plain": [
       "                           Confirmed  Deaths  Recovered\n",
       "Data       Country/Region                              \n",
       "2020-01-22 Hong Kong             0.0     0.0        0.0\n",
       "           Japan                 2.0     0.0        0.0\n",
       "           Macau                 1.0     0.0        0.0\n",
       "           Mainland China      547.0    17.0       28.0\n",
       "           South Korea           1.0     0.0        0.0\n",
       "           Taiwan                1.0     0.0        0.0\n",
       "           Thailand              2.0     0.0        0.0\n",
       "           US                    1.0     0.0        0.0\n",
       "2020-01-23 Australia             0.0     0.0        0.0\n",
       "           Brazil                0.0     0.0        0.0\n",
       "           Colombia              0.0     0.0        0.0\n",
       "           Hong Kong             2.0     0.0        0.0\n",
       "           Japan                 1.0     0.0        0.0\n",
       "           Macau                 2.0     0.0        0.0\n",
       "           Mainland China      639.0    18.0       30.0\n",
       "           Malaysia              0.0     0.0        0.0\n",
       "           Mexico                0.0     0.0        0.0\n",
       "           Philippines           0.0     0.0        0.0\n",
       "           Singapore             1.0     0.0        0.0\n",
       "           South Korea           1.0     0.0        0.0\n",
       "           Taiwan                1.0     0.0        0.0\n",
       "           Thailand              3.0     0.0        0.0\n",
       "           US                    1.0     0.0        0.0\n",
       "           Vietnam               2.0     0.0        0.0\n",
       "2020-01-24 France                2.0     0.0        0.0\n",
       "           Hong Kong             2.0     0.0        0.0\n",
       "           Japan                 2.0     0.0        0.0\n",
       "           Macau                 2.0     0.0        0.0\n",
       "           Mainland China      916.0    26.0       36.0\n",
       "           Singapore             3.0     0.0        0.0"
      ]
     },
     "execution_count": 6,
     "metadata": {},
     "output_type": "execute_result"
    }
   ],
   "source": [
    "COVID.head(30)"
   ]
  },
  {
   "cell_type": "code",
   "execution_count": 7,
   "metadata": {},
   "outputs": [
    {
     "data": {
      "text/html": [
       "<div>\n",
       "<style scoped>\n",
       "    .dataframe tbody tr th:only-of-type {\n",
       "        vertical-align: middle;\n",
       "    }\n",
       "\n",
       "    .dataframe tbody tr th {\n",
       "        vertical-align: top;\n",
       "    }\n",
       "\n",
       "    .dataframe thead th {\n",
       "        text-align: right;\n",
       "    }\n",
       "</style>\n",
       "<table border=\"1\" class=\"dataframe\">\n",
       "  <thead>\n",
       "    <tr style=\"text-align: right;\">\n",
       "      <th></th>\n",
       "      <th></th>\n",
       "      <th>Confirmed</th>\n",
       "      <th>Deaths</th>\n",
       "      <th>Recovered</th>\n",
       "    </tr>\n",
       "    <tr>\n",
       "      <th>Data</th>\n",
       "      <th>Country/Region</th>\n",
       "      <th></th>\n",
       "      <th></th>\n",
       "      <th></th>\n",
       "    </tr>\n",
       "  </thead>\n",
       "  <tbody>\n",
       "    <tr>\n",
       "      <th rowspan=\"30\" valign=\"top\">2020-05-17</th>\n",
       "      <th>Spain</th>\n",
       "      <td>230698.0</td>\n",
       "      <td>27563.0</td>\n",
       "      <td>146446.0</td>\n",
       "    </tr>\n",
       "    <tr>\n",
       "      <th>Sri Lanka</th>\n",
       "      <td>981.0</td>\n",
       "      <td>9.0</td>\n",
       "      <td>538.0</td>\n",
       "    </tr>\n",
       "    <tr>\n",
       "      <th>Sudan</th>\n",
       "      <td>2289.0</td>\n",
       "      <td>97.0</td>\n",
       "      <td>222.0</td>\n",
       "    </tr>\n",
       "    <tr>\n",
       "      <th>Suriname</th>\n",
       "      <td>10.0</td>\n",
       "      <td>1.0</td>\n",
       "      <td>9.0</td>\n",
       "    </tr>\n",
       "    <tr>\n",
       "      <th>Sweden</th>\n",
       "      <td>30143.0</td>\n",
       "      <td>3679.0</td>\n",
       "      <td>4971.0</td>\n",
       "    </tr>\n",
       "    <tr>\n",
       "      <th>Switzerland</th>\n",
       "      <td>30587.0</td>\n",
       "      <td>1881.0</td>\n",
       "      <td>27500.0</td>\n",
       "    </tr>\n",
       "    <tr>\n",
       "      <th>Syria</th>\n",
       "      <td>58.0</td>\n",
       "      <td>3.0</td>\n",
       "      <td>36.0</td>\n",
       "    </tr>\n",
       "    <tr>\n",
       "      <th>Taiwan</th>\n",
       "      <td>440.0</td>\n",
       "      <td>7.0</td>\n",
       "      <td>395.0</td>\n",
       "    </tr>\n",
       "    <tr>\n",
       "      <th>Tajikistan</th>\n",
       "      <td>1524.0</td>\n",
       "      <td>39.0</td>\n",
       "      <td>0.0</td>\n",
       "    </tr>\n",
       "    <tr>\n",
       "      <th>Tanzania</th>\n",
       "      <td>509.0</td>\n",
       "      <td>21.0</td>\n",
       "      <td>183.0</td>\n",
       "    </tr>\n",
       "    <tr>\n",
       "      <th>Thailand</th>\n",
       "      <td>3028.0</td>\n",
       "      <td>56.0</td>\n",
       "      <td>2856.0</td>\n",
       "    </tr>\n",
       "    <tr>\n",
       "      <th>Timor-Leste</th>\n",
       "      <td>24.0</td>\n",
       "      <td>0.0</td>\n",
       "      <td>24.0</td>\n",
       "    </tr>\n",
       "    <tr>\n",
       "      <th>Togo</th>\n",
       "      <td>301.0</td>\n",
       "      <td>11.0</td>\n",
       "      <td>104.0</td>\n",
       "    </tr>\n",
       "    <tr>\n",
       "      <th>Trinidad and Tobago</th>\n",
       "      <td>116.0</td>\n",
       "      <td>8.0</td>\n",
       "      <td>107.0</td>\n",
       "    </tr>\n",
       "    <tr>\n",
       "      <th>Tunisia</th>\n",
       "      <td>1037.0</td>\n",
       "      <td>45.0</td>\n",
       "      <td>816.0</td>\n",
       "    </tr>\n",
       "    <tr>\n",
       "      <th>Turkey</th>\n",
       "      <td>149435.0</td>\n",
       "      <td>4140.0</td>\n",
       "      <td>109962.0</td>\n",
       "    </tr>\n",
       "    <tr>\n",
       "      <th>UK</th>\n",
       "      <td>244995.0</td>\n",
       "      <td>34716.0</td>\n",
       "      <td>1058.0</td>\n",
       "    </tr>\n",
       "    <tr>\n",
       "      <th>US</th>\n",
       "      <td>1486757.0</td>\n",
       "      <td>89562.0</td>\n",
       "      <td>272265.0</td>\n",
       "    </tr>\n",
       "    <tr>\n",
       "      <th>Uganda</th>\n",
       "      <td>227.0</td>\n",
       "      <td>0.0</td>\n",
       "      <td>63.0</td>\n",
       "    </tr>\n",
       "    <tr>\n",
       "      <th>Ukraine</th>\n",
       "      <td>18291.0</td>\n",
       "      <td>514.0</td>\n",
       "      <td>5116.0</td>\n",
       "    </tr>\n",
       "    <tr>\n",
       "      <th>United Arab Emirates</th>\n",
       "      <td>23358.0</td>\n",
       "      <td>220.0</td>\n",
       "      <td>8512.0</td>\n",
       "    </tr>\n",
       "    <tr>\n",
       "      <th>Uruguay</th>\n",
       "      <td>734.0</td>\n",
       "      <td>20.0</td>\n",
       "      <td>564.0</td>\n",
       "    </tr>\n",
       "    <tr>\n",
       "      <th>Uzbekistan</th>\n",
       "      <td>2753.0</td>\n",
       "      <td>12.0</td>\n",
       "      <td>2247.0</td>\n",
       "    </tr>\n",
       "    <tr>\n",
       "      <th>Venezuela</th>\n",
       "      <td>541.0</td>\n",
       "      <td>10.0</td>\n",
       "      <td>241.0</td>\n",
       "    </tr>\n",
       "    <tr>\n",
       "      <th>Vietnam</th>\n",
       "      <td>320.0</td>\n",
       "      <td>0.0</td>\n",
       "      <td>260.0</td>\n",
       "    </tr>\n",
       "    <tr>\n",
       "      <th>West Bank and Gaza</th>\n",
       "      <td>381.0</td>\n",
       "      <td>2.0</td>\n",
       "      <td>335.0</td>\n",
       "    </tr>\n",
       "    <tr>\n",
       "      <th>Western Sahara</th>\n",
       "      <td>6.0</td>\n",
       "      <td>0.0</td>\n",
       "      <td>6.0</td>\n",
       "    </tr>\n",
       "    <tr>\n",
       "      <th>Yemen</th>\n",
       "      <td>128.0</td>\n",
       "      <td>20.0</td>\n",
       "      <td>1.0</td>\n",
       "    </tr>\n",
       "    <tr>\n",
       "      <th>Zambia</th>\n",
       "      <td>753.0</td>\n",
       "      <td>7.0</td>\n",
       "      <td>188.0</td>\n",
       "    </tr>\n",
       "    <tr>\n",
       "      <th>Zimbabwe</th>\n",
       "      <td>44.0</td>\n",
       "      <td>4.0</td>\n",
       "      <td>17.0</td>\n",
       "    </tr>\n",
       "  </tbody>\n",
       "</table>\n",
       "</div>"
      ],
      "text/plain": [
       "                                 Confirmed   Deaths  Recovered\n",
       "Data       Country/Region                                     \n",
       "2020-05-17 Spain                  230698.0  27563.0   146446.0\n",
       "           Sri Lanka                 981.0      9.0      538.0\n",
       "           Sudan                    2289.0     97.0      222.0\n",
       "           Suriname                   10.0      1.0        9.0\n",
       "           Sweden                  30143.0   3679.0     4971.0\n",
       "           Switzerland             30587.0   1881.0    27500.0\n",
       "           Syria                      58.0      3.0       36.0\n",
       "           Taiwan                    440.0      7.0      395.0\n",
       "           Tajikistan               1524.0     39.0        0.0\n",
       "           Tanzania                  509.0     21.0      183.0\n",
       "           Thailand                 3028.0     56.0     2856.0\n",
       "           Timor-Leste                24.0      0.0       24.0\n",
       "           Togo                      301.0     11.0      104.0\n",
       "           Trinidad and Tobago       116.0      8.0      107.0\n",
       "           Tunisia                  1037.0     45.0      816.0\n",
       "           Turkey                 149435.0   4140.0   109962.0\n",
       "           UK                     244995.0  34716.0     1058.0\n",
       "           US                    1486757.0  89562.0   272265.0\n",
       "           Uganda                    227.0      0.0       63.0\n",
       "           Ukraine                 18291.0    514.0     5116.0\n",
       "           United Arab Emirates    23358.0    220.0     8512.0\n",
       "           Uruguay                   734.0     20.0      564.0\n",
       "           Uzbekistan               2753.0     12.0     2247.0\n",
       "           Venezuela                 541.0     10.0      241.0\n",
       "           Vietnam                   320.0      0.0      260.0\n",
       "           West Bank and Gaza        381.0      2.0      335.0\n",
       "           Western Sahara              6.0      0.0        6.0\n",
       "           Yemen                     128.0     20.0        1.0\n",
       "           Zambia                    753.0      7.0      188.0\n",
       "           Zimbabwe                   44.0      4.0       17.0"
      ]
     },
     "execution_count": 7,
     "metadata": {},
     "output_type": "execute_result"
    }
   ],
   "source": [
    "COVID.tail(30)"
   ]
  },
  {
   "cell_type": "markdown",
   "metadata": {},
   "source": [
    "Нарисуем для КИтая"
   ]
  },
  {
   "cell_type": "code",
   "execution_count": 8,
   "metadata": {},
   "outputs": [
    {
     "data": {
      "image/png": "[encoded data removed]",
      "text/plain": [
       "<Figure size 432x288 with 1 Axes>"
      ]
     },
     "metadata": {
      "needs_background": "light"
     },
     "output_type": "display_data"
    }
   ],
   "source": [
    "COVID.loc[COVID.index.get_level_values( 'Country/Region')=='Mainland China', ['Confirmed','Deaths','Recovered']].plot()\n",
    "plt.xticks(label = COVID.index.get_level_values('Data'), rotation=90)\n",
    "\n",
    "plt.show()"
   ]
  },
  {
   "cell_type": "code",
   "execution_count": 9,
   "metadata": {},
   "outputs": [
    {
     "data": {
      "text/plain": [
       "numpy.ndarray"
      ]
     },
     "execution_count": 9,
     "metadata": {},
     "output_type": "execute_result"
    }
   ],
   "source": [
    "COVID3 = COVID_.copy()\n",
    "COVID3 = COVID3[['Confirmed','Deaths','Recovered']]\n",
    "COVID3 = pd.read_csv('covid_19_data.csv').set_index('ObservationDate')\n",
    "COVID3.index = pd.to_datetime(COVID3.index)\n",
    "COVID3 = COVID3.loc[COVID3['Country/Region']=='Mainland China', :]['Confirmed']\n",
    "df5 = pd.DataFrame(COVID3)\n",
    "df4 = pd.DataFrame(COVID3)\n",
    "df4=df4.values\n",
    "type(df4)"
   ]
  },
  {
   "cell_type": "code",
   "execution_count": 10,
   "metadata": {},
   "outputs": [
    {
     "data": {
      "text/plain": [
       "ObservationDate\n",
       "2020-01-22       0.0\n",
       "2020-01-22      26.0\n",
       "2020-01-22       2.0\n",
       "2020-01-22       1.0\n",
       "2020-01-22       4.0\n",
       "               ...  \n",
       "2020-05-17     192.0\n",
       "2020-05-17       1.0\n",
       "2020-05-17      76.0\n",
       "2020-05-17     185.0\n",
       "2020-05-17    1268.0\n",
       "Name: Confirmed, Length: 3621, dtype: float64"
      ]
     },
     "execution_count": 10,
     "metadata": {},
     "output_type": "execute_result"
    }
   ],
   "source": [
    "p = 3 # 10 дней назад по истории\n",
    "h=1  \n",
    "\n",
    "# y = COVID_Data.iloc[h+p:,0]\n",
    "y2 = df5.iloc[h+p:,0]\n",
    "# type( COVID3)\n",
    "y2"
   ]
  },
  {
   "cell_type": "code",
   "execution_count": 73,
   "metadata": {},
   "outputs": [
    {
     "data": {
      "text/plain": [
       "array([[   0.],\n",
       "       [  26.],\n",
       "       [   2.],\n",
       "       ...,\n",
       "       [  76.],\n",
       "       [ 185.],\n",
       "       [1268.]])"
      ]
     },
     "execution_count": 73,
     "metadata": {},
     "output_type": "execute_result"
    }
   ],
   "source": [
    "df4 =df4[:3621] \n",
    "df4.shape\n",
    "y2=np.array(y2).reshape(3621,1)\n",
    "y2.shape==df4.shape"
   ]
  },
  {
   "cell_type": "code",
   "execution_count": 13,
   "metadata": {},
   "outputs": [
    {
     "data": {
      "text/plain": [
       "True"
      ]
     },
     "execution_count": 13,
     "metadata": {},
     "output_type": "execute_result"
    }
   ],
   "source": [
    "N=-10\n",
    "(y2[:N,:]).shape == (df4[:N,:]).shape\n",
    "(y2[N:,:]).shape == (df4[N:,:]).shape"
   ]
  },
  {
   "cell_type": "code",
   "execution_count": 14,
   "metadata": {},
   "outputs": [],
   "source": [
    "from sklearn.linear_model import LinearRegression\n",
    "from sklearn.model_selection import train_test_split\n",
    "\n",
    "from sklearn.ensemble import GradientBoostingRegressor\n",
    "from sklearn.preprocessing import StandardScaler\n",
    "\n",
    "N=-10\n",
    "x_train,y_train,x_test,y_test=df4[:N,:],y2[:N,:],df4[N:,:],y2[N:,:]\n",
    "# пока строим одну\n",
    "model_lb = LinearRegression()\n",
    "# и еще одну\n",
    "model_gb = GradientBoostingRegressor(n_estimators=100)"
   ]
  },
  {
   "cell_type": "code",
   "execution_count": 15,
   "metadata": {},
   "outputs": [
    {
     "data": {
      "text/plain": [
       "(3611, 1)"
      ]
     },
     "execution_count": 15,
     "metadata": {},
     "output_type": "execute_result"
    }
   ],
   "source": [
    "y_train.shape"
   ]
  },
  {
   "cell_type": "code",
   "execution_count": 16,
   "metadata": {},
   "outputs": [
    {
     "name": "stdout",
     "output_type": "stream",
     "text": [
      "1852.3752761997498\n",
      "2120.9860394908956\n"
     ]
    },
    {
     "name": "stderr",
     "output_type": "stream",
     "text": [
      "C:\\Anaconda\\lib\\site-packages\\sklearn\\ensemble\\_gb.py:1454: DataConversionWarning: A column-vector y was passed when a 1d array was expected. Please change the shape of y to (n_samples, ), for example using ravel().\n",
      "  y = column_or_1d(y, warn=True)\n"
     ]
    }
   ],
   "source": [
    "model_lb.fit(x_train,y_train)\n",
    "model_gb.fit(x_train,y_train)\n",
    "\n",
    "\n",
    "y_pred = model_lb.predict(x_test)\n",
    "y_pred_t = model_lb.predict(x_train)\n",
    "\n",
    "y_predg = model_gb.predict(x_test)\n",
    "y_predg_t = model_gb.predict(x_train)\n",
    "\n",
    "\n",
    "error_ =np.mean(np.abs(y_pred-y_test))\n",
    "print(error_)\n",
    "\n",
    "error_ =np.mean(np.abs(y_predg-y_test))\n",
    "print(error_)"
   ]
  },
  {
   "cell_type": "code",
   "execution_count": 17,
   "metadata": {},
   "outputs": [
    {
     "data": {
      "image/png": "[encoded data removed]",
      "text/plain": [
       "<Figure size 432x288 with 1 Axes>"
      ]
     },
     "metadata": {
      "needs_background": "light"
     },
     "output_type": "display_data"
    }
   ],
   "source": [
    "plt.plot(y_pred_t, label='predict train')\n",
    "plt.plot(y_predg_t, label='predict train grad')\n",
    "plt.plot(y_train,'--g', label='train')\n",
    "plt.legend()\n",
    "plt.title('Предсказание train')\n",
    "plt.show()"
   ]
  },
  {
   "cell_type": "code",
   "execution_count": 99,
   "metadata": {},
   "outputs": [
    {
     "data": {
      "image/png": "[encoded data removed]",
      "text/plain": [
       "<Figure size 432x288 with 1 Axes>"
      ]
     },
     "metadata": {
      "needs_background": "light"
     },
     "output_type": "display_data"
    },
    {
     "data": {
      "image/png": "[encoded data removed]",
      "text/plain": [
       "<Figure size 432x288 with 1 Axes>"
      ]
     },
     "metadata": {
      "needs_background": "light"
     },
     "output_type": "display_data"
    }
   ],
   "source": [
    "sm.graphics.tsa.plot_acf(df4, lags=14)\n",
    "plt.show()\n",
    "sm.graphics.tsa.plot_pacf(df4, lags=14)\n",
    "plt.show()"
   ]
  },
  {
   "cell_type": "markdown",
   "metadata": {},
   "source": [
    "Есть какие-то странные места в феврале"
   ]
  },
  {
   "cell_type": "code",
   "execution_count": 18,
   "metadata": {},
   "outputs": [
    {
     "data": {
      "image/png": "[encoded data removed]",
      "text/plain": [
       "<Figure size 432x288 with 1 Axes>"
      ]
     },
     "metadata": {
      "needs_background": "light"
     },
     "output_type": "display_data"
    }
   ],
   "source": [
    "COVID.loc[((COVID.index.get_level_values( 'Country/Region')=='Mainland China') & (COVID.index.get_level_values( 'Data') > pd.to_datetime('2020-02-10'))& (COVID.index.get_level_values( 'Data') < pd.to_datetime('2020-02-20'))), ['Confirmed','Deaths','Recovered']].plot()\n",
    "plt.xticks(label = COVID.index.get_level_values('Data'), rotation=90)\n",
    "\n",
    "plt.show()"
   ]
  },
  {
   "cell_type": "markdown",
   "metadata": {},
   "source": [
    "Посмотрим на них в цифрах"
   ]
  },
  {
   "cell_type": "code",
   "execution_count": 19,
   "metadata": {},
   "outputs": [
    {
     "data": {
      "text/html": [
       "<div>\n",
       "<style scoped>\n",
       "    .dataframe tbody tr th:only-of-type {\n",
       "        vertical-align: middle;\n",
       "    }\n",
       "\n",
       "    .dataframe tbody tr th {\n",
       "        vertical-align: top;\n",
       "    }\n",
       "\n",
       "    .dataframe thead th {\n",
       "        text-align: right;\n",
       "    }\n",
       "</style>\n",
       "<table border=\"1\" class=\"dataframe\">\n",
       "  <thead>\n",
       "    <tr style=\"text-align: right;\">\n",
       "      <th></th>\n",
       "      <th>SNo</th>\n",
       "      <th>ObservationDate</th>\n",
       "      <th>Province/State</th>\n",
       "      <th>Country/Region</th>\n",
       "      <th>Last Update</th>\n",
       "      <th>Confirmed</th>\n",
       "      <th>Deaths</th>\n",
       "      <th>Recovered</th>\n",
       "      <th>Data</th>\n",
       "    </tr>\n",
       "  </thead>\n",
       "  <tbody>\n",
       "    <tr>\n",
       "      <th>1268</th>\n",
       "      <td>1269</td>\n",
       "      <td>02/12/2020</td>\n",
       "      <td>Hubei</td>\n",
       "      <td>Mainland China</td>\n",
       "      <td>2020-02-12T14:13:08</td>\n",
       "      <td>33366.0</td>\n",
       "      <td>1068.0</td>\n",
       "      <td>2686.0</td>\n",
       "      <td>2020-02-12</td>\n",
       "    </tr>\n",
       "    <tr>\n",
       "      <th>1269</th>\n",
       "      <td>1270</td>\n",
       "      <td>02/12/2020</td>\n",
       "      <td>Guangdong</td>\n",
       "      <td>Mainland China</td>\n",
       "      <td>2020-02-12T12:23:09</td>\n",
       "      <td>1219.0</td>\n",
       "      <td>1.0</td>\n",
       "      <td>275.0</td>\n",
       "      <td>2020-02-12</td>\n",
       "    </tr>\n",
       "    <tr>\n",
       "      <th>1270</th>\n",
       "      <td>1271</td>\n",
       "      <td>02/12/2020</td>\n",
       "      <td>Henan</td>\n",
       "      <td>Mainland China</td>\n",
       "      <td>2020-02-12T14:13:08</td>\n",
       "      <td>1135.0</td>\n",
       "      <td>8.0</td>\n",
       "      <td>246.0</td>\n",
       "      <td>2020-02-12</td>\n",
       "    </tr>\n",
       "    <tr>\n",
       "      <th>1271</th>\n",
       "      <td>1272</td>\n",
       "      <td>02/12/2020</td>\n",
       "      <td>Zhejiang</td>\n",
       "      <td>Mainland China</td>\n",
       "      <td>2020-02-12T10:13:20</td>\n",
       "      <td>1131.0</td>\n",
       "      <td>0.0</td>\n",
       "      <td>321.0</td>\n",
       "      <td>2020-02-12</td>\n",
       "    </tr>\n",
       "    <tr>\n",
       "      <th>1272</th>\n",
       "      <td>1273</td>\n",
       "      <td>02/12/2020</td>\n",
       "      <td>Hunan</td>\n",
       "      <td>Mainland China</td>\n",
       "      <td>2020-02-12T12:43:03</td>\n",
       "      <td>946.0</td>\n",
       "      <td>2.0</td>\n",
       "      <td>304.0</td>\n",
       "      <td>2020-02-12</td>\n",
       "    </tr>\n",
       "    <tr>\n",
       "      <th>1273</th>\n",
       "      <td>1274</td>\n",
       "      <td>02/12/2020</td>\n",
       "      <td>Anhui</td>\n",
       "      <td>Mainland China</td>\n",
       "      <td>2020-02-12T10:13:20</td>\n",
       "      <td>889.0</td>\n",
       "      <td>4.0</td>\n",
       "      <td>127.0</td>\n",
       "      <td>2020-02-12</td>\n",
       "    </tr>\n",
       "    <tr>\n",
       "      <th>1274</th>\n",
       "      <td>1275</td>\n",
       "      <td>02/12/2020</td>\n",
       "      <td>Jiangxi</td>\n",
       "      <td>Mainland China</td>\n",
       "      <td>2020-02-12T01:23:06</td>\n",
       "      <td>844.0</td>\n",
       "      <td>1.0</td>\n",
       "      <td>152.0</td>\n",
       "      <td>2020-02-12</td>\n",
       "    </tr>\n",
       "    <tr>\n",
       "      <th>1275</th>\n",
       "      <td>1276</td>\n",
       "      <td>02/12/2020</td>\n",
       "      <td>Jiangsu</td>\n",
       "      <td>Mainland China</td>\n",
       "      <td>2020-02-12T14:13:08</td>\n",
       "      <td>543.0</td>\n",
       "      <td>0.0</td>\n",
       "      <td>125.0</td>\n",
       "      <td>2020-02-12</td>\n",
       "    </tr>\n",
       "    <tr>\n",
       "      <th>1276</th>\n",
       "      <td>1277</td>\n",
       "      <td>02/12/2020</td>\n",
       "      <td>Chongqing</td>\n",
       "      <td>Mainland China</td>\n",
       "      <td>2020-02-12T23:13:08</td>\n",
       "      <td>518.0</td>\n",
       "      <td>3.0</td>\n",
       "      <td>102.0</td>\n",
       "      <td>2020-02-12</td>\n",
       "    </tr>\n",
       "    <tr>\n",
       "      <th>1277</th>\n",
       "      <td>1278</td>\n",
       "      <td>02/12/2020</td>\n",
       "      <td>Shandong</td>\n",
       "      <td>Mainland China</td>\n",
       "      <td>2020-02-12T11:13:05</td>\n",
       "      <td>497.0</td>\n",
       "      <td>2.0</td>\n",
       "      <td>92.0</td>\n",
       "      <td>2020-02-12</td>\n",
       "    </tr>\n",
       "    <tr>\n",
       "      <th>1278</th>\n",
       "      <td>1279</td>\n",
       "      <td>02/12/2020</td>\n",
       "      <td>Sichuan</td>\n",
       "      <td>Mainland China</td>\n",
       "      <td>2020-02-12T12:43:03</td>\n",
       "      <td>436.0</td>\n",
       "      <td>1.0</td>\n",
       "      <td>92.0</td>\n",
       "      <td>2020-02-12</td>\n",
       "    </tr>\n",
       "    <tr>\n",
       "      <th>1279</th>\n",
       "      <td>1280</td>\n",
       "      <td>02/12/2020</td>\n",
       "      <td>Heilongjiang</td>\n",
       "      <td>Mainland China</td>\n",
       "      <td>2020-02-12T14:13:08</td>\n",
       "      <td>378.0</td>\n",
       "      <td>8.0</td>\n",
       "      <td>31.0</td>\n",
       "      <td>2020-02-12</td>\n",
       "    </tr>\n",
       "    <tr>\n",
       "      <th>1280</th>\n",
       "      <td>1281</td>\n",
       "      <td>02/12/2020</td>\n",
       "      <td>Beijing</td>\n",
       "      <td>Mainland China</td>\n",
       "      <td>2020-02-12T02:43:03</td>\n",
       "      <td>352.0</td>\n",
       "      <td>3.0</td>\n",
       "      <td>56.0</td>\n",
       "      <td>2020-02-12</td>\n",
       "    </tr>\n",
       "    <tr>\n",
       "      <th>1281</th>\n",
       "      <td>1282</td>\n",
       "      <td>02/12/2020</td>\n",
       "      <td>Shanghai</td>\n",
       "      <td>Mainland China</td>\n",
       "      <td>2020-02-12T06:23:08</td>\n",
       "      <td>311.0</td>\n",
       "      <td>1.0</td>\n",
       "      <td>57.0</td>\n",
       "      <td>2020-02-12</td>\n",
       "    </tr>\n",
       "    <tr>\n",
       "      <th>1282</th>\n",
       "      <td>1283</td>\n",
       "      <td>02/12/2020</td>\n",
       "      <td>Fujian</td>\n",
       "      <td>Mainland China</td>\n",
       "      <td>2020-02-12T11:53:02</td>\n",
       "      <td>272.0</td>\n",
       "      <td>0.0</td>\n",
       "      <td>53.0</td>\n",
       "      <td>2020-02-12</td>\n",
       "    </tr>\n",
       "    <tr>\n",
       "      <th>1283</th>\n",
       "      <td>1284</td>\n",
       "      <td>02/12/2020</td>\n",
       "      <td>Hebei</td>\n",
       "      <td>Mainland China</td>\n",
       "      <td>2020-02-12T11:13:05</td>\n",
       "      <td>251.0</td>\n",
       "      <td>2.0</td>\n",
       "      <td>54.0</td>\n",
       "      <td>2020-02-12</td>\n",
       "    </tr>\n",
       "    <tr>\n",
       "      <th>1284</th>\n",
       "      <td>1285</td>\n",
       "      <td>02/12/2020</td>\n",
       "      <td>Shaanxi</td>\n",
       "      <td>Mainland China</td>\n",
       "      <td>2020-02-12T11:13:05</td>\n",
       "      <td>225.0</td>\n",
       "      <td>0.0</td>\n",
       "      <td>43.0</td>\n",
       "      <td>2020-02-12</td>\n",
       "    </tr>\n",
       "    <tr>\n",
       "      <th>1285</th>\n",
       "      <td>1286</td>\n",
       "      <td>02/12/2020</td>\n",
       "      <td>Guangxi</td>\n",
       "      <td>Mainland China</td>\n",
       "      <td>2020-02-12T15:03:05</td>\n",
       "      <td>222.0</td>\n",
       "      <td>1.0</td>\n",
       "      <td>32.0</td>\n",
       "      <td>2020-02-12</td>\n",
       "    </tr>\n",
       "    <tr>\n",
       "      <th>1287</th>\n",
       "      <td>1288</td>\n",
       "      <td>02/12/2020</td>\n",
       "      <td>Hainan</td>\n",
       "      <td>Mainland China</td>\n",
       "      <td>2020-02-12T17:03:03</td>\n",
       "      <td>157.0</td>\n",
       "      <td>4.0</td>\n",
       "      <td>27.0</td>\n",
       "      <td>2020-02-12</td>\n",
       "    </tr>\n",
       "    <tr>\n",
       "      <th>1288</th>\n",
       "      <td>1289</td>\n",
       "      <td>02/12/2020</td>\n",
       "      <td>Yunnan</td>\n",
       "      <td>Mainland China</td>\n",
       "      <td>2020-02-12T14:13:08</td>\n",
       "      <td>154.0</td>\n",
       "      <td>0.0</td>\n",
       "      <td>26.0</td>\n",
       "      <td>2020-02-12</td>\n",
       "    </tr>\n",
       "    <tr>\n",
       "      <th>1289</th>\n",
       "      <td>1290</td>\n",
       "      <td>02/12/2020</td>\n",
       "      <td>Guizhou</td>\n",
       "      <td>Mainland China</td>\n",
       "      <td>2020-02-12T09:43:02</td>\n",
       "      <td>133.0</td>\n",
       "      <td>1.0</td>\n",
       "      <td>18.0</td>\n",
       "      <td>2020-02-12</td>\n",
       "    </tr>\n",
       "    <tr>\n",
       "      <th>1290</th>\n",
       "      <td>1291</td>\n",
       "      <td>02/12/2020</td>\n",
       "      <td>Shanxi</td>\n",
       "      <td>Mainland China</td>\n",
       "      <td>2020-02-12T23:03:02</td>\n",
       "      <td>126.0</td>\n",
       "      <td>0.0</td>\n",
       "      <td>33.0</td>\n",
       "      <td>2020-02-12</td>\n",
       "    </tr>\n",
       "    <tr>\n",
       "      <th>1291</th>\n",
       "      <td>1292</td>\n",
       "      <td>02/12/2020</td>\n",
       "      <td>Liaoning</td>\n",
       "      <td>Mainland China</td>\n",
       "      <td>2020-02-12T13:33:02</td>\n",
       "      <td>116.0</td>\n",
       "      <td>1.0</td>\n",
       "      <td>20.0</td>\n",
       "      <td>2020-02-12</td>\n",
       "    </tr>\n",
       "    <tr>\n",
       "      <th>1292</th>\n",
       "      <td>1293</td>\n",
       "      <td>02/12/2020</td>\n",
       "      <td>Tianjin</td>\n",
       "      <td>Mainland China</td>\n",
       "      <td>2020-02-12T15:03:05</td>\n",
       "      <td>112.0</td>\n",
       "      <td>2.0</td>\n",
       "      <td>11.0</td>\n",
       "      <td>2020-02-12</td>\n",
       "    </tr>\n",
       "    <tr>\n",
       "      <th>1293</th>\n",
       "      <td>1294</td>\n",
       "      <td>02/12/2020</td>\n",
       "      <td>Gansu</td>\n",
       "      <td>Mainland China</td>\n",
       "      <td>2020-02-12T23:23:01</td>\n",
       "      <td>87.0</td>\n",
       "      <td>2.0</td>\n",
       "      <td>31.0</td>\n",
       "      <td>2020-02-12</td>\n",
       "    </tr>\n",
       "    <tr>\n",
       "      <th>1294</th>\n",
       "      <td>1295</td>\n",
       "      <td>02/12/2020</td>\n",
       "      <td>Jilin</td>\n",
       "      <td>Mainland China</td>\n",
       "      <td>2020-02-12T14:13:08</td>\n",
       "      <td>83.0</td>\n",
       "      <td>1.0</td>\n",
       "      <td>22.0</td>\n",
       "      <td>2020-02-12</td>\n",
       "    </tr>\n",
       "    <tr>\n",
       "      <th>1295</th>\n",
       "      <td>1296</td>\n",
       "      <td>02/12/2020</td>\n",
       "      <td>Inner Mongolia</td>\n",
       "      <td>Mainland China</td>\n",
       "      <td>2020-02-12T11:13:05</td>\n",
       "      <td>60.0</td>\n",
       "      <td>0.0</td>\n",
       "      <td>6.0</td>\n",
       "      <td>2020-02-12</td>\n",
       "    </tr>\n",
       "    <tr>\n",
       "      <th>1296</th>\n",
       "      <td>1297</td>\n",
       "      <td>02/12/2020</td>\n",
       "      <td>Xinjiang</td>\n",
       "      <td>Mainland China</td>\n",
       "      <td>2020-02-12T01:43:02</td>\n",
       "      <td>59.0</td>\n",
       "      <td>0.0</td>\n",
       "      <td>3.0</td>\n",
       "      <td>2020-02-12</td>\n",
       "    </tr>\n",
       "    <tr>\n",
       "      <th>1297</th>\n",
       "      <td>1298</td>\n",
       "      <td>02/12/2020</td>\n",
       "      <td>Ningxia</td>\n",
       "      <td>Mainland China</td>\n",
       "      <td>2020-02-12T11:13:05</td>\n",
       "      <td>58.0</td>\n",
       "      <td>0.0</td>\n",
       "      <td>24.0</td>\n",
       "      <td>2020-02-12</td>\n",
       "    </tr>\n",
       "    <tr>\n",
       "      <th>1303</th>\n",
       "      <td>1304</td>\n",
       "      <td>02/12/2020</td>\n",
       "      <td>Qinghai</td>\n",
       "      <td>Mainland China</td>\n",
       "      <td>2020-02-12T08:03:06</td>\n",
       "      <td>18.0</td>\n",
       "      <td>0.0</td>\n",
       "      <td>9.0</td>\n",
       "      <td>2020-02-12</td>\n",
       "    </tr>\n",
       "    <tr>\n",
       "      <th>1330</th>\n",
       "      <td>1331</td>\n",
       "      <td>02/12/2020</td>\n",
       "      <td>Tibet</td>\n",
       "      <td>Mainland China</td>\n",
       "      <td>2020-02-12T06:43:02</td>\n",
       "      <td>1.0</td>\n",
       "      <td>0.0</td>\n",
       "      <td>1.0</td>\n",
       "      <td>2020-02-12</td>\n",
       "    </tr>\n",
       "    <tr>\n",
       "      <th>1341</th>\n",
       "      <td>1342</td>\n",
       "      <td>02/13/2020</td>\n",
       "      <td>Hubei</td>\n",
       "      <td>Mainland China</td>\n",
       "      <td>2020-02-13T14:13:06</td>\n",
       "      <td>48206.0</td>\n",
       "      <td>1310.0</td>\n",
       "      <td>3459.0</td>\n",
       "      <td>2020-02-13</td>\n",
       "    </tr>\n",
       "    <tr>\n",
       "      <th>1342</th>\n",
       "      <td>1343</td>\n",
       "      <td>02/13/2020</td>\n",
       "      <td>Guangdong</td>\n",
       "      <td>Mainland China</td>\n",
       "      <td>2020-02-13T13:33:01</td>\n",
       "      <td>1241.0</td>\n",
       "      <td>2.0</td>\n",
       "      <td>314.0</td>\n",
       "      <td>2020-02-13</td>\n",
       "    </tr>\n",
       "    <tr>\n",
       "      <th>1343</th>\n",
       "      <td>1344</td>\n",
       "      <td>02/13/2020</td>\n",
       "      <td>Henan</td>\n",
       "      <td>Mainland China</td>\n",
       "      <td>2020-02-13T14:53:02</td>\n",
       "      <td>1169.0</td>\n",
       "      <td>10.0</td>\n",
       "      <td>296.0</td>\n",
       "      <td>2020-02-13</td>\n",
       "    </tr>\n",
       "    <tr>\n",
       "      <th>1344</th>\n",
       "      <td>1345</td>\n",
       "      <td>02/13/2020</td>\n",
       "      <td>Zhejiang</td>\n",
       "      <td>Mainland China</td>\n",
       "      <td>2020-02-13T14:13:06</td>\n",
       "      <td>1145.0</td>\n",
       "      <td>0.0</td>\n",
       "      <td>360.0</td>\n",
       "      <td>2020-02-13</td>\n",
       "    </tr>\n",
       "    <tr>\n",
       "      <th>1345</th>\n",
       "      <td>1346</td>\n",
       "      <td>02/13/2020</td>\n",
       "      <td>Hunan</td>\n",
       "      <td>Mainland China</td>\n",
       "      <td>2020-02-13T11:53:02</td>\n",
       "      <td>968.0</td>\n",
       "      <td>2.0</td>\n",
       "      <td>339.0</td>\n",
       "      <td>2020-02-13</td>\n",
       "    </tr>\n",
       "    <tr>\n",
       "      <th>1346</th>\n",
       "      <td>1347</td>\n",
       "      <td>02/13/2020</td>\n",
       "      <td>Anhui</td>\n",
       "      <td>Mainland China</td>\n",
       "      <td>2020-02-13T13:33:01</td>\n",
       "      <td>910.0</td>\n",
       "      <td>5.0</td>\n",
       "      <td>157.0</td>\n",
       "      <td>2020-02-13</td>\n",
       "    </tr>\n",
       "    <tr>\n",
       "      <th>1347</th>\n",
       "      <td>1348</td>\n",
       "      <td>02/13/2020</td>\n",
       "      <td>Jiangxi</td>\n",
       "      <td>Mainland China</td>\n",
       "      <td>2020-02-13T01:13:08</td>\n",
       "      <td>872.0</td>\n",
       "      <td>1.0</td>\n",
       "      <td>170.0</td>\n",
       "      <td>2020-02-13</td>\n",
       "    </tr>\n",
       "    <tr>\n",
       "      <th>1348</th>\n",
       "      <td>1349</td>\n",
       "      <td>02/13/2020</td>\n",
       "      <td>Jiangsu</td>\n",
       "      <td>Mainland China</td>\n",
       "      <td>2020-02-13T10:33:23</td>\n",
       "      <td>570.0</td>\n",
       "      <td>0.0</td>\n",
       "      <td>139.0</td>\n",
       "      <td>2020-02-13</td>\n",
       "    </tr>\n",
       "    <tr>\n",
       "      <th>1349</th>\n",
       "      <td>1350</td>\n",
       "      <td>02/13/2020</td>\n",
       "      <td>Chongqing</td>\n",
       "      <td>Mainland China</td>\n",
       "      <td>2020-02-13T23:23:05</td>\n",
       "      <td>529.0</td>\n",
       "      <td>4.0</td>\n",
       "      <td>128.0</td>\n",
       "      <td>2020-02-13</td>\n",
       "    </tr>\n",
       "    <tr>\n",
       "      <th>1350</th>\n",
       "      <td>1351</td>\n",
       "      <td>02/13/2020</td>\n",
       "      <td>Shandong</td>\n",
       "      <td>Mainland China</td>\n",
       "      <td>2020-02-13T13:33:01</td>\n",
       "      <td>509.0</td>\n",
       "      <td>2.0</td>\n",
       "      <td>105.0</td>\n",
       "      <td>2020-02-13</td>\n",
       "    </tr>\n",
       "    <tr>\n",
       "      <th>1351</th>\n",
       "      <td>1352</td>\n",
       "      <td>02/13/2020</td>\n",
       "      <td>Sichuan</td>\n",
       "      <td>Mainland China</td>\n",
       "      <td>2020-02-13T13:33:01</td>\n",
       "      <td>451.0</td>\n",
       "      <td>1.0</td>\n",
       "      <td>104.0</td>\n",
       "      <td>2020-02-13</td>\n",
       "    </tr>\n",
       "    <tr>\n",
       "      <th>1352</th>\n",
       "      <td>1353</td>\n",
       "      <td>02/13/2020</td>\n",
       "      <td>Heilongjiang</td>\n",
       "      <td>Mainland China</td>\n",
       "      <td>2020-02-13T12:13:06</td>\n",
       "      <td>395.0</td>\n",
       "      <td>9.0</td>\n",
       "      <td>33.0</td>\n",
       "      <td>2020-02-13</td>\n",
       "    </tr>\n",
       "    <tr>\n",
       "      <th>1353</th>\n",
       "      <td>1354</td>\n",
       "      <td>02/13/2020</td>\n",
       "      <td>Beijing</td>\n",
       "      <td>Mainland China</td>\n",
       "      <td>2020-02-13T14:13:06</td>\n",
       "      <td>366.0</td>\n",
       "      <td>3.0</td>\n",
       "      <td>69.0</td>\n",
       "      <td>2020-02-13</td>\n",
       "    </tr>\n",
       "    <tr>\n",
       "      <th>1354</th>\n",
       "      <td>1355</td>\n",
       "      <td>02/13/2020</td>\n",
       "      <td>Shanghai</td>\n",
       "      <td>Mainland China</td>\n",
       "      <td>2020-02-13T06:13:15</td>\n",
       "      <td>315.0</td>\n",
       "      <td>1.0</td>\n",
       "      <td>62.0</td>\n",
       "      <td>2020-02-13</td>\n",
       "    </tr>\n",
       "    <tr>\n",
       "      <th>1355</th>\n",
       "      <td>1356</td>\n",
       "      <td>02/13/2020</td>\n",
       "      <td>Fujian</td>\n",
       "      <td>Mainland China</td>\n",
       "      <td>2020-02-13T10:33:23</td>\n",
       "      <td>279.0</td>\n",
       "      <td>0.0</td>\n",
       "      <td>57.0</td>\n",
       "      <td>2020-02-13</td>\n",
       "    </tr>\n",
       "    <tr>\n",
       "      <th>1356</th>\n",
       "      <td>1357</td>\n",
       "      <td>02/13/2020</td>\n",
       "      <td>Hebei</td>\n",
       "      <td>Mainland China</td>\n",
       "      <td>2020-02-13T10:33:23</td>\n",
       "      <td>265.0</td>\n",
       "      <td>3.0</td>\n",
       "      <td>68.0</td>\n",
       "      <td>2020-02-13</td>\n",
       "    </tr>\n",
       "    <tr>\n",
       "      <th>1357</th>\n",
       "      <td>1358</td>\n",
       "      <td>02/13/2020</td>\n",
       "      <td>Shaanxi</td>\n",
       "      <td>Mainland China</td>\n",
       "      <td>2020-02-13T10:33:23</td>\n",
       "      <td>229.0</td>\n",
       "      <td>0.0</td>\n",
       "      <td>46.0</td>\n",
       "      <td>2020-02-13</td>\n",
       "    </tr>\n",
       "    <tr>\n",
       "      <th>1358</th>\n",
       "      <td>1359</td>\n",
       "      <td>02/13/2020</td>\n",
       "      <td>Guangxi</td>\n",
       "      <td>Mainland China</td>\n",
       "      <td>2020-02-13T00:23:10</td>\n",
       "      <td>222.0</td>\n",
       "      <td>2.0</td>\n",
       "      <td>33.0</td>\n",
       "      <td>2020-02-13</td>\n",
       "    </tr>\n",
       "    <tr>\n",
       "      <th>1360</th>\n",
       "      <td>1361</td>\n",
       "      <td>02/13/2020</td>\n",
       "      <td>Hainan</td>\n",
       "      <td>Mainland China</td>\n",
       "      <td>2020-02-13T10:43:03</td>\n",
       "      <td>157.0</td>\n",
       "      <td>4.0</td>\n",
       "      <td>30.0</td>\n",
       "      <td>2020-02-13</td>\n",
       "    </tr>\n",
       "  </tbody>\n",
       "</table>\n",
       "</div>"
      ],
      "text/plain": [
       "       SNo ObservationDate  Province/State  Country/Region  \\\n",
       "1268  1269      02/12/2020           Hubei  Mainland China   \n",
       "1269  1270      02/12/2020       Guangdong  Mainland China   \n",
       "1270  1271      02/12/2020           Henan  Mainland China   \n",
       "1271  1272      02/12/2020        Zhejiang  Mainland China   \n",
       "1272  1273      02/12/2020           Hunan  Mainland China   \n",
       "1273  1274      02/12/2020           Anhui  Mainland China   \n",
       "1274  1275      02/12/2020         Jiangxi  Mainland China   \n",
       "1275  1276      02/12/2020         Jiangsu  Mainland China   \n",
       "1276  1277      02/12/2020       Chongqing  Mainland China   \n",
       "1277  1278      02/12/2020        Shandong  Mainland China   \n",
       "1278  1279      02/12/2020         Sichuan  Mainland China   \n",
       "1279  1280      02/12/2020    Heilongjiang  Mainland China   \n",
       "1280  1281      02/12/2020         Beijing  Mainland China   \n",
       "1281  1282      02/12/2020        Shanghai  Mainland China   \n",
       "1282  1283      02/12/2020          Fujian  Mainland China   \n",
       "1283  1284      02/12/2020           Hebei  Mainland China   \n",
       "1284  1285      02/12/2020         Shaanxi  Mainland China   \n",
       "1285  1286      02/12/2020         Guangxi  Mainland China   \n",
       "1287  1288      02/12/2020          Hainan  Mainland China   \n",
       "1288  1289      02/12/2020          Yunnan  Mainland China   \n",
       "1289  1290      02/12/2020         Guizhou  Mainland China   \n",
       "1290  1291      02/12/2020          Shanxi  Mainland China   \n",
       "1291  1292      02/12/2020        Liaoning  Mainland China   \n",
       "1292  1293      02/12/2020         Tianjin  Mainland China   \n",
       "1293  1294      02/12/2020           Gansu  Mainland China   \n",
       "1294  1295      02/12/2020           Jilin  Mainland China   \n",
       "1295  1296      02/12/2020  Inner Mongolia  Mainland China   \n",
       "1296  1297      02/12/2020        Xinjiang  Mainland China   \n",
       "1297  1298      02/12/2020         Ningxia  Mainland China   \n",
       "1303  1304      02/12/2020         Qinghai  Mainland China   \n",
       "1330  1331      02/12/2020           Tibet  Mainland China   \n",
       "1341  1342      02/13/2020           Hubei  Mainland China   \n",
       "1342  1343      02/13/2020       Guangdong  Mainland China   \n",
       "1343  1344      02/13/2020           Henan  Mainland China   \n",
       "1344  1345      02/13/2020        Zhejiang  Mainland China   \n",
       "1345  1346      02/13/2020           Hunan  Mainland China   \n",
       "1346  1347      02/13/2020           Anhui  Mainland China   \n",
       "1347  1348      02/13/2020         Jiangxi  Mainland China   \n",
       "1348  1349      02/13/2020         Jiangsu  Mainland China   \n",
       "1349  1350      02/13/2020       Chongqing  Mainland China   \n",
       "1350  1351      02/13/2020        Shandong  Mainland China   \n",
       "1351  1352      02/13/2020         Sichuan  Mainland China   \n",
       "1352  1353      02/13/2020    Heilongjiang  Mainland China   \n",
       "1353  1354      02/13/2020         Beijing  Mainland China   \n",
       "1354  1355      02/13/2020        Shanghai  Mainland China   \n",
       "1355  1356      02/13/2020          Fujian  Mainland China   \n",
       "1356  1357      02/13/2020           Hebei  Mainland China   \n",
       "1357  1358      02/13/2020         Shaanxi  Mainland China   \n",
       "1358  1359      02/13/2020         Guangxi  Mainland China   \n",
       "1360  1361      02/13/2020          Hainan  Mainland China   \n",
       "\n",
       "              Last Update  Confirmed  Deaths  Recovered        Data  \n",
       "1268  2020-02-12T14:13:08    33366.0  1068.0     2686.0  2020-02-12  \n",
       "1269  2020-02-12T12:23:09     1219.0     1.0      275.0  2020-02-12  \n",
       "1270  2020-02-12T14:13:08     1135.0     8.0      246.0  2020-02-12  \n",
       "1271  2020-02-12T10:13:20     1131.0     0.0      321.0  2020-02-12  \n",
       "1272  2020-02-12T12:43:03      946.0     2.0      304.0  2020-02-12  \n",
       "1273  2020-02-12T10:13:20      889.0     4.0      127.0  2020-02-12  \n",
       "1274  2020-02-12T01:23:06      844.0     1.0      152.0  2020-02-12  \n",
       "1275  2020-02-12T14:13:08      543.0     0.0      125.0  2020-02-12  \n",
       "1276  2020-02-12T23:13:08      518.0     3.0      102.0  2020-02-12  \n",
       "1277  2020-02-12T11:13:05      497.0     2.0       92.0  2020-02-12  \n",
       "1278  2020-02-12T12:43:03      436.0     1.0       92.0  2020-02-12  \n",
       "1279  2020-02-12T14:13:08      378.0     8.0       31.0  2020-02-12  \n",
       "1280  2020-02-12T02:43:03      352.0     3.0       56.0  2020-02-12  \n",
       "1281  2020-02-12T06:23:08      311.0     1.0       57.0  2020-02-12  \n",
       "1282  2020-02-12T11:53:02      272.0     0.0       53.0  2020-02-12  \n",
       "1283  2020-02-12T11:13:05      251.0     2.0       54.0  2020-02-12  \n",
       "1284  2020-02-12T11:13:05      225.0     0.0       43.0  2020-02-12  \n",
       "1285  2020-02-12T15:03:05      222.0     1.0       32.0  2020-02-12  \n",
       "1287  2020-02-12T17:03:03      157.0     4.0       27.0  2020-02-12  \n",
       "1288  2020-02-12T14:13:08      154.0     0.0       26.0  2020-02-12  \n",
       "1289  2020-02-12T09:43:02      133.0     1.0       18.0  2020-02-12  \n",
       "1290  2020-02-12T23:03:02      126.0     0.0       33.0  2020-02-12  \n",
       "1291  2020-02-12T13:33:02      116.0     1.0       20.0  2020-02-12  \n",
       "1292  2020-02-12T15:03:05      112.0     2.0       11.0  2020-02-12  \n",
       "1293  2020-02-12T23:23:01       87.0     2.0       31.0  2020-02-12  \n",
       "1294  2020-02-12T14:13:08       83.0     1.0       22.0  2020-02-12  \n",
       "1295  2020-02-12T11:13:05       60.0     0.0        6.0  2020-02-12  \n",
       "1296  2020-02-12T01:43:02       59.0     0.0        3.0  2020-02-12  \n",
       "1297  2020-02-12T11:13:05       58.0     0.0       24.0  2020-02-12  \n",
       "1303  2020-02-12T08:03:06       18.0     0.0        9.0  2020-02-12  \n",
       "1330  2020-02-12T06:43:02        1.0     0.0        1.0  2020-02-12  \n",
       "1341  2020-02-13T14:13:06    48206.0  1310.0     3459.0  2020-02-13  \n",
       "1342  2020-02-13T13:33:01     1241.0     2.0      314.0  2020-02-13  \n",
       "1343  2020-02-13T14:53:02     1169.0    10.0      296.0  2020-02-13  \n",
       "1344  2020-02-13T14:13:06     1145.0     0.0      360.0  2020-02-13  \n",
       "1345  2020-02-13T11:53:02      968.0     2.0      339.0  2020-02-13  \n",
       "1346  2020-02-13T13:33:01      910.0     5.0      157.0  2020-02-13  \n",
       "1347  2020-02-13T01:13:08      872.0     1.0      170.0  2020-02-13  \n",
       "1348  2020-02-13T10:33:23      570.0     0.0      139.0  2020-02-13  \n",
       "1349  2020-02-13T23:23:05      529.0     4.0      128.0  2020-02-13  \n",
       "1350  2020-02-13T13:33:01      509.0     2.0      105.0  2020-02-13  \n",
       "1351  2020-02-13T13:33:01      451.0     1.0      104.0  2020-02-13  \n",
       "1352  2020-02-13T12:13:06      395.0     9.0       33.0  2020-02-13  \n",
       "1353  2020-02-13T14:13:06      366.0     3.0       69.0  2020-02-13  \n",
       "1354  2020-02-13T06:13:15      315.0     1.0       62.0  2020-02-13  \n",
       "1355  2020-02-13T10:33:23      279.0     0.0       57.0  2020-02-13  \n",
       "1356  2020-02-13T10:33:23      265.0     3.0       68.0  2020-02-13  \n",
       "1357  2020-02-13T10:33:23      229.0     0.0       46.0  2020-02-13  \n",
       "1358  2020-02-13T00:23:10      222.0     2.0       33.0  2020-02-13  \n",
       "1360  2020-02-13T10:43:03      157.0     4.0       30.0  2020-02-13  "
      ]
     },
     "execution_count": 19,
     "metadata": {},
     "output_type": "execute_result"
    }
   ],
   "source": [
    "COVID_.loc[( (COVID_[ 'Country/Region']=='Mainland China') & (COVID_['Data'] > pd.to_datetime('2020-02-11'))& (COVID_['Data'] < pd.to_datetime('2020-02-14'))), :].head(50)\n"
   ]
  },
  {
   "cell_type": "markdown",
   "metadata": {},
   "source": [
    "Пока нет дополнительной информации не скажешь, что происходит (а это пояснение https://www.interfax.ru/world/695138 - стали включать клинический диагноз) - пожоже нужно разделить модель на до и после."
   ]
  },
  {
   "cell_type": "code",
   "execution_count": 20,
   "metadata": {},
   "outputs": [
    {
     "data": {
      "text/html": [
       "<div>\n",
       "<style scoped>\n",
       "    .dataframe tbody tr th:only-of-type {\n",
       "        vertical-align: middle;\n",
       "    }\n",
       "\n",
       "    .dataframe tbody tr th {\n",
       "        vertical-align: top;\n",
       "    }\n",
       "\n",
       "    .dataframe thead th {\n",
       "        text-align: right;\n",
       "    }\n",
       "</style>\n",
       "<table border=\"1\" class=\"dataframe\">\n",
       "  <thead>\n",
       "    <tr style=\"text-align: right;\">\n",
       "      <th></th>\n",
       "      <th></th>\n",
       "      <th>Confirmed</th>\n",
       "      <th>Deaths</th>\n",
       "      <th>Recovered</th>\n",
       "    </tr>\n",
       "    <tr>\n",
       "      <th>Data</th>\n",
       "      <th>Country/Region</th>\n",
       "      <th></th>\n",
       "      <th></th>\n",
       "      <th></th>\n",
       "    </tr>\n",
       "  </thead>\n",
       "  <tbody>\n",
       "    <tr>\n",
       "      <th rowspan=\"20\" valign=\"top\">2020-05-17</th>\n",
       "      <th>Thailand</th>\n",
       "      <td>3028.0</td>\n",
       "      <td>56.0</td>\n",
       "      <td>2856.0</td>\n",
       "    </tr>\n",
       "    <tr>\n",
       "      <th>Timor-Leste</th>\n",
       "      <td>24.0</td>\n",
       "      <td>0.0</td>\n",
       "      <td>24.0</td>\n",
       "    </tr>\n",
       "    <tr>\n",
       "      <th>Togo</th>\n",
       "      <td>301.0</td>\n",
       "      <td>11.0</td>\n",
       "      <td>104.0</td>\n",
       "    </tr>\n",
       "    <tr>\n",
       "      <th>Trinidad and Tobago</th>\n",
       "      <td>116.0</td>\n",
       "      <td>8.0</td>\n",
       "      <td>107.0</td>\n",
       "    </tr>\n",
       "    <tr>\n",
       "      <th>Tunisia</th>\n",
       "      <td>1037.0</td>\n",
       "      <td>45.0</td>\n",
       "      <td>816.0</td>\n",
       "    </tr>\n",
       "    <tr>\n",
       "      <th>Turkey</th>\n",
       "      <td>149435.0</td>\n",
       "      <td>4140.0</td>\n",
       "      <td>109962.0</td>\n",
       "    </tr>\n",
       "    <tr>\n",
       "      <th>UK</th>\n",
       "      <td>244995.0</td>\n",
       "      <td>34716.0</td>\n",
       "      <td>1058.0</td>\n",
       "    </tr>\n",
       "    <tr>\n",
       "      <th>US</th>\n",
       "      <td>1486757.0</td>\n",
       "      <td>89562.0</td>\n",
       "      <td>272265.0</td>\n",
       "    </tr>\n",
       "    <tr>\n",
       "      <th>Uganda</th>\n",
       "      <td>227.0</td>\n",
       "      <td>0.0</td>\n",
       "      <td>63.0</td>\n",
       "    </tr>\n",
       "    <tr>\n",
       "      <th>Ukraine</th>\n",
       "      <td>18291.0</td>\n",
       "      <td>514.0</td>\n",
       "      <td>5116.0</td>\n",
       "    </tr>\n",
       "    <tr>\n",
       "      <th>United Arab Emirates</th>\n",
       "      <td>23358.0</td>\n",
       "      <td>220.0</td>\n",
       "      <td>8512.0</td>\n",
       "    </tr>\n",
       "    <tr>\n",
       "      <th>Uruguay</th>\n",
       "      <td>734.0</td>\n",
       "      <td>20.0</td>\n",
       "      <td>564.0</td>\n",
       "    </tr>\n",
       "    <tr>\n",
       "      <th>Uzbekistan</th>\n",
       "      <td>2753.0</td>\n",
       "      <td>12.0</td>\n",
       "      <td>2247.0</td>\n",
       "    </tr>\n",
       "    <tr>\n",
       "      <th>Venezuela</th>\n",
       "      <td>541.0</td>\n",
       "      <td>10.0</td>\n",
       "      <td>241.0</td>\n",
       "    </tr>\n",
       "    <tr>\n",
       "      <th>Vietnam</th>\n",
       "      <td>320.0</td>\n",
       "      <td>0.0</td>\n",
       "      <td>260.0</td>\n",
       "    </tr>\n",
       "    <tr>\n",
       "      <th>West Bank and Gaza</th>\n",
       "      <td>381.0</td>\n",
       "      <td>2.0</td>\n",
       "      <td>335.0</td>\n",
       "    </tr>\n",
       "    <tr>\n",
       "      <th>Western Sahara</th>\n",
       "      <td>6.0</td>\n",
       "      <td>0.0</td>\n",
       "      <td>6.0</td>\n",
       "    </tr>\n",
       "    <tr>\n",
       "      <th>Yemen</th>\n",
       "      <td>128.0</td>\n",
       "      <td>20.0</td>\n",
       "      <td>1.0</td>\n",
       "    </tr>\n",
       "    <tr>\n",
       "      <th>Zambia</th>\n",
       "      <td>753.0</td>\n",
       "      <td>7.0</td>\n",
       "      <td>188.0</td>\n",
       "    </tr>\n",
       "    <tr>\n",
       "      <th>Zimbabwe</th>\n",
       "      <td>44.0</td>\n",
       "      <td>4.0</td>\n",
       "      <td>17.0</td>\n",
       "    </tr>\n",
       "  </tbody>\n",
       "</table>\n",
       "</div>"
      ],
      "text/plain": [
       "                                 Confirmed   Deaths  Recovered\n",
       "Data       Country/Region                                     \n",
       "2020-05-17 Thailand                 3028.0     56.0     2856.0\n",
       "           Timor-Leste                24.0      0.0       24.0\n",
       "           Togo                      301.0     11.0      104.0\n",
       "           Trinidad and Tobago       116.0      8.0      107.0\n",
       "           Tunisia                  1037.0     45.0      816.0\n",
       "           Turkey                 149435.0   4140.0   109962.0\n",
       "           UK                     244995.0  34716.0     1058.0\n",
       "           US                    1486757.0  89562.0   272265.0\n",
       "           Uganda                    227.0      0.0       63.0\n",
       "           Ukraine                 18291.0    514.0     5116.0\n",
       "           United Arab Emirates    23358.0    220.0     8512.0\n",
       "           Uruguay                   734.0     20.0      564.0\n",
       "           Uzbekistan               2753.0     12.0     2247.0\n",
       "           Venezuela                 541.0     10.0      241.0\n",
       "           Vietnam                   320.0      0.0      260.0\n",
       "           West Bank and Gaza        381.0      2.0      335.0\n",
       "           Western Sahara              6.0      0.0        6.0\n",
       "           Yemen                     128.0     20.0        1.0\n",
       "           Zambia                    753.0      7.0      188.0\n",
       "           Zimbabwe                   44.0      4.0       17.0"
      ]
     },
     "execution_count": 20,
     "metadata": {},
     "output_type": "execute_result"
    }
   ],
   "source": [
    "COVID.tail(20)"
   ]
  },
  {
   "cell_type": "markdown",
   "metadata": {},
   "source": [
    "Сделаем первые разности (производную)"
   ]
  },
  {
   "cell_type": "code",
   "execution_count": 21,
   "metadata": {},
   "outputs": [
    {
     "data": {
      "image/png": "[encoded data removed]",
      "text/plain": [
       "<Figure size 432x288 with 1 Axes>"
      ]
     },
     "metadata": {
      "needs_background": "light"
     },
     "output_type": "display_data"
    }
   ],
   "source": [
    "COVID.loc[COVID.index.get_level_values( 'Country/Region')=='Mainland China', ['Confirmed','Deaths','Recovered']].diff(1).plot()\n",
    "plt.xticks(label = COVID.index.get_level_values('Data'), rotation=90)\n",
    "\n",
    "plt.show()"
   ]
  },
  {
   "cell_type": "code",
   "execution_count": 22,
   "metadata": {},
   "outputs": [
    {
     "data": {
      "text/html": [
       "<div>\n",
       "<style scoped>\n",
       "    .dataframe tbody tr th:only-of-type {\n",
       "        vertical-align: middle;\n",
       "    }\n",
       "\n",
       "    .dataframe tbody tr th {\n",
       "        vertical-align: top;\n",
       "    }\n",
       "\n",
       "    .dataframe thead th {\n",
       "        text-align: right;\n",
       "    }\n",
       "</style>\n",
       "<table border=\"1\" class=\"dataframe\">\n",
       "  <thead>\n",
       "    <tr style=\"text-align: right;\">\n",
       "      <th></th>\n",
       "      <th></th>\n",
       "      <th>Confirmed</th>\n",
       "      <th>Deaths</th>\n",
       "      <th>Recovered</th>\n",
       "    </tr>\n",
       "    <tr>\n",
       "      <th>Data</th>\n",
       "      <th>Country/Region</th>\n",
       "      <th></th>\n",
       "      <th></th>\n",
       "      <th></th>\n",
       "    </tr>\n",
       "  </thead>\n",
       "  <tbody>\n",
       "    <tr>\n",
       "      <th>2020-05-08</th>\n",
       "      <th>Mainland China</th>\n",
       "      <td>82887.0</td>\n",
       "      <td>4633.0</td>\n",
       "      <td>77993.0</td>\n",
       "    </tr>\n",
       "    <tr>\n",
       "      <th>2020-05-09</th>\n",
       "      <th>Mainland China</th>\n",
       "      <td>82901.0</td>\n",
       "      <td>4633.0</td>\n",
       "      <td>78120.0</td>\n",
       "    </tr>\n",
       "    <tr>\n",
       "      <th>2020-05-10</th>\n",
       "      <th>Mainland China</th>\n",
       "      <td>82918.0</td>\n",
       "      <td>4633.0</td>\n",
       "      <td>78144.0</td>\n",
       "    </tr>\n",
       "    <tr>\n",
       "      <th>2020-05-11</th>\n",
       "      <th>Mainland China</th>\n",
       "      <td>82919.0</td>\n",
       "      <td>4633.0</td>\n",
       "      <td>78171.0</td>\n",
       "    </tr>\n",
       "    <tr>\n",
       "      <th>2020-05-12</th>\n",
       "      <th>Mainland China</th>\n",
       "      <td>82926.0</td>\n",
       "      <td>4633.0</td>\n",
       "      <td>78189.0</td>\n",
       "    </tr>\n",
       "    <tr>\n",
       "      <th>2020-05-13</th>\n",
       "      <th>Mainland China</th>\n",
       "      <td>82929.0</td>\n",
       "      <td>4633.0</td>\n",
       "      <td>78195.0</td>\n",
       "    </tr>\n",
       "    <tr>\n",
       "      <th>2020-05-14</th>\n",
       "      <th>Mainland China</th>\n",
       "      <td>82933.0</td>\n",
       "      <td>4633.0</td>\n",
       "      <td>78209.0</td>\n",
       "    </tr>\n",
       "    <tr>\n",
       "      <th>2020-05-15</th>\n",
       "      <th>Mainland China</th>\n",
       "      <td>82941.0</td>\n",
       "      <td>4633.0</td>\n",
       "      <td>78219.0</td>\n",
       "    </tr>\n",
       "    <tr>\n",
       "      <th>2020-05-16</th>\n",
       "      <th>Mainland China</th>\n",
       "      <td>82947.0</td>\n",
       "      <td>4634.0</td>\n",
       "      <td>78227.0</td>\n",
       "    </tr>\n",
       "    <tr>\n",
       "      <th>2020-05-17</th>\n",
       "      <th>Mainland China</th>\n",
       "      <td>82954.0</td>\n",
       "      <td>4634.0</td>\n",
       "      <td>78238.0</td>\n",
       "    </tr>\n",
       "  </tbody>\n",
       "</table>\n",
       "</div>"
      ],
      "text/plain": [
       "                           Confirmed  Deaths  Recovered\n",
       "Data       Country/Region                              \n",
       "2020-05-08 Mainland China    82887.0  4633.0    77993.0\n",
       "2020-05-09 Mainland China    82901.0  4633.0    78120.0\n",
       "2020-05-10 Mainland China    82918.0  4633.0    78144.0\n",
       "2020-05-11 Mainland China    82919.0  4633.0    78171.0\n",
       "2020-05-12 Mainland China    82926.0  4633.0    78189.0\n",
       "2020-05-13 Mainland China    82929.0  4633.0    78195.0\n",
       "2020-05-14 Mainland China    82933.0  4633.0    78209.0\n",
       "2020-05-15 Mainland China    82941.0  4633.0    78219.0\n",
       "2020-05-16 Mainland China    82947.0  4634.0    78227.0\n",
       "2020-05-17 Mainland China    82954.0  4634.0    78238.0"
      ]
     },
     "execution_count": 22,
     "metadata": {},
     "output_type": "execute_result"
    }
   ],
   "source": [
    "COVID.loc[COVID.index.get_level_values( 'Country/Region')=='Mainland China', ['Confirmed','Deaths','Recovered']].tail(10)"
   ]
  },
  {
   "cell_type": "markdown",
   "metadata": {},
   "source": [
    "Опять большой пик - нужен дополнительный анализ\n",
    "\n",
    "Посмотрим только на выздоровление (так оптимистичней:))"
   ]
  },
  {
   "cell_type": "code",
   "execution_count": 23,
   "metadata": {},
   "outputs": [
    {
     "data": {
      "image/png": "[encoded data removed]",
      "text/plain": [
       "<Figure size 432x288 with 1 Axes>"
      ]
     },
     "metadata": {
      "needs_background": "light"
     },
     "output_type": "display_data"
    }
   ],
   "source": [
    "COVID.loc[COVID.index.get_level_values( 'Country/Region')=='Mainland China', ['Recovered']].diff(1).plot()\n",
    "plt.xticks(label = COVID.loc[COVID.index.get_level_values( 'Country/Region')=='Mainland China', ['Recovered']].diff(1).values, rotation=90)\n",
    "\n",
    "plt.show()"
   ]
  },
  {
   "cell_type": "markdown",
   "metadata": {},
   "source": [
    "Странный ход данных сохранился - будем разбираться, что происходит\n",
    "\n",
    "\n",
    "## Построим признаки\n",
    "\n",
    "1) Первая разность (производная ряда) - разница с(t)-c(t-1) по всем t "
   ]
  },
  {
   "cell_type": "code",
   "execution_count": 24,
   "metadata": {},
   "outputs": [],
   "source": [
    "X1 = COVID.loc[COVID.index.get_level_values( 'Country/Region')=='Mainland China', ['Confirmed','Deaths','Recovered']].diff(1).values\n",
    "X1[0,:] = 0"
   ]
  },
  {
   "cell_type": "markdown",
   "metadata": {},
   "source": [
    "2) Сами значения элементов ряда по времени"
   ]
  },
  {
   "cell_type": "code",
   "execution_count": 25,
   "metadata": {},
   "outputs": [],
   "source": [
    "X2 = COVID.loc[COVID.index.get_level_values( 'Country/Region')=='Mainland China', ['Confirmed','Deaths','Recovered']].values "
   ]
  },
  {
   "cell_type": "code",
   "execution_count": 80,
   "metadata": {},
   "outputs": [
    {
     "data": {
      "text/plain": [
       "(117, 3)"
      ]
     },
     "execution_count": 80,
     "metadata": {},
     "output_type": "execute_result"
    }
   ],
   "source": [
    "X1.shape\n"
   ]
  },
  {
   "cell_type": "code",
   "execution_count": 79,
   "metadata": {},
   "outputs": [
    {
     "data": {
      "text/plain": [
       "(117, 3)"
      ]
     },
     "execution_count": 79,
     "metadata": {},
     "output_type": "execute_result"
    }
   ],
   "source": [
    "X2.shape\n"
   ]
  },
  {
   "cell_type": "markdown",
   "metadata": {},
   "source": [
    "3) Добавим признаков по календарю\n",
    "   "
   ]
  },
  {
   "cell_type": "code",
   "execution_count": 28,
   "metadata": {},
   "outputs": [],
   "source": [
    "X3 = COVID.iloc[COVID.index.get_level_values( 'Country/Region')=='Mainland China'].index.get_level_values( 'Data')"
   ]
  },
  {
   "cell_type": "code",
   "execution_count": 75,
   "metadata": {},
   "outputs": [
    {
     "data": {
      "text/plain": [
       "pandas.core.indexes.base.Index"
      ]
     },
     "execution_count": 75,
     "metadata": {},
     "output_type": "execute_result"
    }
   ],
   "source": [
    "X3\n"
   ]
  },
  {
   "cell_type": "markdown",
   "metadata": {},
   "source": [
    "3.1) - день недели по счету\n",
    "\n",
    "3.2) - день от начала статистики в текущей таблице (для Китая - 1-й день карантина(возможно), для других стран следует посмотреть на первый не 0-й экземпляр по 'Confirmed') - строим как \"текущий день года\" - \"первый день от начала отсчета данных по номеру в году\""
   ]
  },
  {
   "cell_type": "code",
   "execution_count": 30,
   "metadata": {},
   "outputs": [],
   "source": [
    "X3_1 = pd.to_datetime(X3).dayofweek\n",
    "X3_2 = pd.to_datetime(X3).dayofyear -  pd.to_datetime(X3[0]).dayofyear"
   ]
  },
  {
   "cell_type": "code",
   "execution_count": 78,
   "metadata": {},
   "outputs": [
    {
     "data": {
      "text/plain": [
       "Int64Index([  0,   1,   2,   3,   4,   5,   6,   7,   8,   9,\n",
       "            ...\n",
       "            107, 108, 109, 110, 111, 112, 113, 114, 115, 116],\n",
       "           dtype='int64', name='Data', length=117)"
      ]
     },
     "execution_count": 78,
     "metadata": {},
     "output_type": "execute_result"
    }
   ],
   "source": [
    "X3_2\n"
   ]
  },
  {
   "cell_type": "markdown",
   "metadata": {},
   "source": [
    "Собирем все в кучу"
   ]
  },
  {
   "cell_type": "code",
   "execution_count": 32,
   "metadata": {},
   "outputs": [],
   "source": [
    "XX = np.concatenate([X1,X2], axis= 1)"
   ]
  },
  {
   "cell_type": "code",
   "execution_count": 33,
   "metadata": {},
   "outputs": [],
   "source": [
    "XX = np.concatenate([XX,np.array(X3_1).reshape((X1.shape[0],1))], axis= 1)"
   ]
  },
  {
   "cell_type": "code",
   "execution_count": 34,
   "metadata": {},
   "outputs": [],
   "source": [
    "XX = np.concatenate([XX,np.array(X3_2).reshape((X1.shape[0],1))], axis= 1)"
   ]
  },
  {
   "cell_type": "code",
   "execution_count": 35,
   "metadata": {},
   "outputs": [
    {
     "data": {
      "text/plain": [
       "(117, 8)"
      ]
     },
     "execution_count": 35,
     "metadata": {},
     "output_type": "execute_result"
    }
   ],
   "source": [
    "XX.shape"
   ]
  },
  {
   "cell_type": "markdown",
   "metadata": {},
   "source": [
    "Таблица признаков для Китая"
   ]
  },
  {
   "cell_type": "code",
   "execution_count": 36,
   "metadata": {},
   "outputs": [],
   "source": [
    "COVID_Data = pd.DataFrame(data= XX, index= X3)"
   ]
  },
  {
   "cell_type": "code",
   "execution_count": 37,
   "metadata": {},
   "outputs": [
    {
     "data": {
      "text/html": [
       "<div>\n",
       "<style scoped>\n",
       "    .dataframe tbody tr th:only-of-type {\n",
       "        vertical-align: middle;\n",
       "    }\n",
       "\n",
       "    .dataframe tbody tr th {\n",
       "        vertical-align: top;\n",
       "    }\n",
       "\n",
       "    .dataframe thead th {\n",
       "        text-align: right;\n",
       "    }\n",
       "</style>\n",
       "<table border=\"1\" class=\"dataframe\">\n",
       "  <thead>\n",
       "    <tr style=\"text-align: right;\">\n",
       "      <th></th>\n",
       "      <th>0</th>\n",
       "      <th>1</th>\n",
       "      <th>2</th>\n",
       "      <th>3</th>\n",
       "      <th>4</th>\n",
       "      <th>5</th>\n",
       "      <th>6</th>\n",
       "      <th>7</th>\n",
       "    </tr>\n",
       "    <tr>\n",
       "      <th>Data</th>\n",
       "      <th></th>\n",
       "      <th></th>\n",
       "      <th></th>\n",
       "      <th></th>\n",
       "      <th></th>\n",
       "      <th></th>\n",
       "      <th></th>\n",
       "      <th></th>\n",
       "    </tr>\n",
       "  </thead>\n",
       "  <tbody>\n",
       "    <tr>\n",
       "      <th>2020-01-22</th>\n",
       "      <td>0.0</td>\n",
       "      <td>0.0</td>\n",
       "      <td>0.0</td>\n",
       "      <td>547.0</td>\n",
       "      <td>17.0</td>\n",
       "      <td>28.0</td>\n",
       "      <td>2.0</td>\n",
       "      <td>0.0</td>\n",
       "    </tr>\n",
       "    <tr>\n",
       "      <th>2020-01-23</th>\n",
       "      <td>92.0</td>\n",
       "      <td>1.0</td>\n",
       "      <td>2.0</td>\n",
       "      <td>639.0</td>\n",
       "      <td>18.0</td>\n",
       "      <td>30.0</td>\n",
       "      <td>3.0</td>\n",
       "      <td>1.0</td>\n",
       "    </tr>\n",
       "    <tr>\n",
       "      <th>2020-01-24</th>\n",
       "      <td>277.0</td>\n",
       "      <td>8.0</td>\n",
       "      <td>6.0</td>\n",
       "      <td>916.0</td>\n",
       "      <td>26.0</td>\n",
       "      <td>36.0</td>\n",
       "      <td>4.0</td>\n",
       "      <td>2.0</td>\n",
       "    </tr>\n",
       "    <tr>\n",
       "      <th>2020-01-25</th>\n",
       "      <td>483.0</td>\n",
       "      <td>16.0</td>\n",
       "      <td>3.0</td>\n",
       "      <td>1399.0</td>\n",
       "      <td>42.0</td>\n",
       "      <td>39.0</td>\n",
       "      <td>5.0</td>\n",
       "      <td>3.0</td>\n",
       "    </tr>\n",
       "    <tr>\n",
       "      <th>2020-01-26</th>\n",
       "      <td>663.0</td>\n",
       "      <td>14.0</td>\n",
       "      <td>10.0</td>\n",
       "      <td>2062.0</td>\n",
       "      <td>56.0</td>\n",
       "      <td>49.0</td>\n",
       "      <td>6.0</td>\n",
       "      <td>4.0</td>\n",
       "    </tr>\n",
       "  </tbody>\n",
       "</table>\n",
       "</div>"
      ],
      "text/plain": [
       "                0     1     2       3     4     5    6    7\n",
       "Data                                                       \n",
       "2020-01-22    0.0   0.0   0.0   547.0  17.0  28.0  2.0  0.0\n",
       "2020-01-23   92.0   1.0   2.0   639.0  18.0  30.0  3.0  1.0\n",
       "2020-01-24  277.0   8.0   6.0   916.0  26.0  36.0  4.0  2.0\n",
       "2020-01-25  483.0  16.0   3.0  1399.0  42.0  39.0  5.0  3.0\n",
       "2020-01-26  663.0  14.0  10.0  2062.0  56.0  49.0  6.0  4.0"
      ]
     },
     "execution_count": 37,
     "metadata": {},
     "output_type": "execute_result"
    }
   ],
   "source": [
    "COVID_Data.head()"
   ]
  },
  {
   "cell_type": "markdown",
   "metadata": {},
   "source": [
    "Сбросим 22 дня в отдельный ряд. там считали по другой схеме."
   ]
  },
  {
   "cell_type": "code",
   "execution_count": 38,
   "metadata": {},
   "outputs": [],
   "source": [
    "COVID_Data12 = COVID_Data.iloc[:23,:].copy()\n",
    "COVID_Data = COVID_Data.iloc[23:,:]"
   ]
  },
  {
   "cell_type": "code",
   "execution_count": 39,
   "metadata": {},
   "outputs": [
    {
     "data": {
      "text/html": [
       "<div>\n",
       "<style scoped>\n",
       "    .dataframe tbody tr th:only-of-type {\n",
       "        vertical-align: middle;\n",
       "    }\n",
       "\n",
       "    .dataframe tbody tr th {\n",
       "        vertical-align: top;\n",
       "    }\n",
       "\n",
       "    .dataframe thead th {\n",
       "        text-align: right;\n",
       "    }\n",
       "</style>\n",
       "<table border=\"1\" class=\"dataframe\">\n",
       "  <thead>\n",
       "    <tr style=\"text-align: right;\">\n",
       "      <th></th>\n",
       "      <th>0</th>\n",
       "      <th>1</th>\n",
       "      <th>2</th>\n",
       "      <th>3</th>\n",
       "      <th>4</th>\n",
       "      <th>5</th>\n",
       "      <th>6</th>\n",
       "      <th>7</th>\n",
       "    </tr>\n",
       "    <tr>\n",
       "      <th>Data</th>\n",
       "      <th></th>\n",
       "      <th></th>\n",
       "      <th></th>\n",
       "      <th></th>\n",
       "      <th></th>\n",
       "      <th></th>\n",
       "      <th></th>\n",
       "      <th></th>\n",
       "    </tr>\n",
       "  </thead>\n",
       "  <tbody>\n",
       "    <tr>\n",
       "      <th>2020-02-14</th>\n",
       "      <td>6460.0</td>\n",
       "      <td>152.0</td>\n",
       "      <td>1760.0</td>\n",
       "      <td>66292.0</td>\n",
       "      <td>1520.0</td>\n",
       "      <td>7973.0</td>\n",
       "      <td>4.0</td>\n",
       "      <td>23.0</td>\n",
       "    </tr>\n",
       "    <tr>\n",
       "      <th>2020-02-15</th>\n",
       "      <td>2055.0</td>\n",
       "      <td>142.0</td>\n",
       "      <td>1321.0</td>\n",
       "      <td>68347.0</td>\n",
       "      <td>1662.0</td>\n",
       "      <td>9294.0</td>\n",
       "      <td>5.0</td>\n",
       "      <td>24.0</td>\n",
       "    </tr>\n",
       "    <tr>\n",
       "      <th>2020-02-16</th>\n",
       "      <td>2099.0</td>\n",
       "      <td>103.0</td>\n",
       "      <td>1454.0</td>\n",
       "      <td>70446.0</td>\n",
       "      <td>1765.0</td>\n",
       "      <td>10748.0</td>\n",
       "      <td>6.0</td>\n",
       "      <td>25.0</td>\n",
       "    </tr>\n",
       "    <tr>\n",
       "      <th>2020-02-17</th>\n",
       "      <td>1918.0</td>\n",
       "      <td>98.0</td>\n",
       "      <td>1707.0</td>\n",
       "      <td>72364.0</td>\n",
       "      <td>1863.0</td>\n",
       "      <td>12455.0</td>\n",
       "      <td>0.0</td>\n",
       "      <td>26.0</td>\n",
       "    </tr>\n",
       "    <tr>\n",
       "      <th>2020-02-18</th>\n",
       "      <td>1775.0</td>\n",
       "      <td>139.0</td>\n",
       "      <td>1744.0</td>\n",
       "      <td>74139.0</td>\n",
       "      <td>2002.0</td>\n",
       "      <td>14199.0</td>\n",
       "      <td>1.0</td>\n",
       "      <td>27.0</td>\n",
       "    </tr>\n",
       "  </tbody>\n",
       "</table>\n",
       "</div>"
      ],
      "text/plain": [
       "                 0      1       2        3       4        5    6     7\n",
       "Data                                                                  \n",
       "2020-02-14  6460.0  152.0  1760.0  66292.0  1520.0   7973.0  4.0  23.0\n",
       "2020-02-15  2055.0  142.0  1321.0  68347.0  1662.0   9294.0  5.0  24.0\n",
       "2020-02-16  2099.0  103.0  1454.0  70446.0  1765.0  10748.0  6.0  25.0\n",
       "2020-02-17  1918.0   98.0  1707.0  72364.0  1863.0  12455.0  0.0  26.0\n",
       "2020-02-18  1775.0  139.0  1744.0  74139.0  2002.0  14199.0  1.0  27.0"
      ]
     },
     "execution_count": 39,
     "metadata": {},
     "output_type": "execute_result"
    }
   ],
   "source": [
    "COVID_Data.head()"
   ]
  },
  {
   "cell_type": "markdown",
   "metadata": {},
   "source": [
    "Сделаем данные для модели:\n",
    "\n",
    "необходимо определить как далеко будем смотреть назад по ряду от текущего дня - это параметр р - глубина истории\n",
    "\n",
    "необходимо определить как далеко будем смотреть вперед (предсказывать) - это горизонт прогноза h"
   ]
  },
  {
   "cell_type": "code",
   "execution_count": 40,
   "metadata": {},
   "outputs": [],
   "source": [
    "p = 3 # 10 дней назад по истории\n",
    "h=1    # 1 день вперед предсказываем"
   ]
  },
  {
   "cell_type": "markdown",
   "metadata": {},
   "source": [
    "Строим выходную часть данных:\n",
    " \n",
    " предсказываем значения заболеваемости (т.е. признак COVID_Dat.iloc[:,3])\n",
    " \n",
    " сдвигаем точку предсказания на длину истории р (т.к. не можем предсказывать имея меньше чем р данных для анализа) и ставим первой предсказываемой точкой точку p+h , h - горизонт предсказания"
   ]
  },
  {
   "cell_type": "code",
   "execution_count": 41,
   "metadata": {},
   "outputs": [
    {
     "data": {
      "text/plain": [
       "Data\n",
       "2020-02-18    1775.0\n",
       "2020-02-19     407.0\n",
       "2020-02-20     453.0\n",
       "2020-02-21     473.0\n",
       "2020-02-22    1450.0\n",
       "               ...  \n",
       "2020-05-13       3.0\n",
       "2020-05-14       4.0\n",
       "2020-05-15       8.0\n",
       "2020-05-16       6.0\n",
       "2020-05-17       7.0\n",
       "Name: 0, Length: 90, dtype: float64"
      ]
     },
     "execution_count": 41,
     "metadata": {},
     "output_type": "execute_result"
    }
   ],
   "source": [
    "y = COVID_Data.iloc[h+p:,0]\n",
    "y"
   ]
  },
  {
   "cell_type": "markdown",
   "metadata": {},
   "source": [
    "Строим данные для входной части модели:\n",
    "\n",
    "наши р дней истории по всем признакам  начиная от 0-го дня используем блоками  XX[i:i+p,:] для i = 0,64\n",
    "\n",
    "последний предсказываемый день будет 75-й (5.04.2020), т.е. данные для предсказания кончаются в 74-й день (4.04.2020) (сегодня 9.04 - последний день 8.04 - 78-й день)\n",
    "\n",
    "векторизируем весь блок данных истории в вектор длины 8*р и дописываем в примеры для обучения  X"
   ]
  },
  {
   "cell_type": "code",
   "execution_count": 42,
   "metadata": {},
   "outputs": [],
   "source": [
    "X =[]\n",
    "for i in range(len(y)):\n",
    "    xx = XX[i:i+p,:]\n",
    "    X.append(xx.reshape(8*p))\n"
   ]
  },
  {
   "cell_type": "markdown",
   "metadata": {},
   "source": [
    "Приводим все к одному виду для обработки в модели"
   ]
  },
  {
   "cell_type": "code",
   "execution_count": 43,
   "metadata": {},
   "outputs": [],
   "source": [
    "X = np.array(X).reshape((COVID_Data.shape[0]-p-h,8*p))\n",
    "y=np.array(y).reshape((COVID_Data.shape[0]-p-h,1))"
   ]
  },
  {
   "cell_type": "code",
   "execution_count": 44,
   "metadata": {},
   "outputs": [
    {
     "data": {
      "text/plain": [
       "array([[0.0000e+00, 0.0000e+00, 0.0000e+00, ..., 3.6000e+01, 4.0000e+00,\n",
       "        2.0000e+00],\n",
       "       [9.2000e+01, 1.0000e+00, 2.0000e+00, ..., 3.9000e+01, 5.0000e+00,\n",
       "        3.0000e+00],\n",
       "       [2.7700e+02, 8.0000e+00, 6.0000e+00, ..., 4.9000e+01, 6.0000e+00,\n",
       "        4.0000e+00],\n",
       "       ...,\n",
       "       [2.4000e+01, 0.0000e+00, 2.6000e+01, ..., 7.7093e+04, 0.0000e+00,\n",
       "        8.9000e+01],\n",
       "       [1.7000e+01, 0.0000e+00, 3.9000e+01, ..., 7.7125e+04, 1.0000e+00,\n",
       "        9.0000e+01],\n",
       "       [1.2000e+01, 0.0000e+00, 2.5000e+01, ..., 7.7157e+04, 2.0000e+00,\n",
       "        9.1000e+01]])"
      ]
     },
     "execution_count": 44,
     "metadata": {},
     "output_type": "execute_result"
    }
   ],
   "source": [
    "X.shape\n",
    "X"
   ]
  },
  {
   "cell_type": "code",
   "execution_count": 45,
   "metadata": {},
   "outputs": [
    {
     "data": {
      "text/plain": [
       "(90, 1)"
      ]
     },
     "execution_count": 45,
     "metadata": {},
     "output_type": "execute_result"
    }
   ],
   "source": [
    "y.shape\n"
   ]
  },
  {
   "cell_type": "markdown",
   "metadata": {},
   "source": [
    "Можно строить модель"
   ]
  },
  {
   "cell_type": "code",
   "execution_count": 46,
   "metadata": {},
   "outputs": [],
   "source": [
    "from sklearn.linear_model import LinearRegression\n",
    "from sklearn.model_selection import train_test_split\n",
    "\n",
    "from sklearn.ensemble import GradientBoostingRegressor\n",
    "from sklearn.preprocessing import StandardScaler\n",
    "\n",
    "N=-10\n",
    "x_train,y_train,x_test,y_test=X[:N,:],y[:N,:],X[N:,:],y[N:,:]\n",
    "# пока строим одну\n",
    "model_lb = LinearRegression()\n",
    "# и еще одну\n",
    "model_gb = GradientBoostingRegressor(n_estimators=100)"
   ]
  },
  {
   "cell_type": "code",
   "execution_count": 47,
   "metadata": {},
   "outputs": [
    {
     "name": "stderr",
     "output_type": "stream",
     "text": [
      "C:\\Anaconda\\lib\\site-packages\\sklearn\\ensemble\\_gb.py:1454: DataConversionWarning: A column-vector y was passed when a 1d array was expected. Please change the shape of y to (n_samples, ), for example using ravel().\n",
      "  y = column_or_1d(y, warn=True)\n"
     ]
    },
    {
     "data": {
      "text/plain": [
       "GradientBoostingRegressor(alpha=0.9, ccp_alpha=0.0, criterion='friedman_mse',\n",
       "                          init=None, learning_rate=0.1, loss='ls', max_depth=3,\n",
       "                          max_features=None, max_leaf_nodes=None,\n",
       "                          min_impurity_decrease=0.0, min_impurity_split=None,\n",
       "                          min_samples_leaf=1, min_samples_split=2,\n",
       "                          min_weight_fraction_leaf=0.0, n_estimators=100,\n",
       "                          n_iter_no_change=None, presort='deprecated',\n",
       "                          random_state=None, subsample=1.0, tol=0.0001,\n",
       "                          validation_fraction=0.1, verbose=0, warm_start=False)"
      ]
     },
     "execution_count": 47,
     "metadata": {},
     "output_type": "execute_result"
    }
   ],
   "source": [
    "model_lb.fit(x_train,y_train)\n",
    "model_gb.fit(x_train,y_train)"
   ]
  },
  {
   "cell_type": "code",
   "execution_count": 48,
   "metadata": {},
   "outputs": [],
   "source": [
    "y_pred = model_lb.predict(x_test)\n",
    "y_pred_t = model_lb.predict(x_train)\n",
    "\n",
    "y_predg = model_gb.predict(x_test)\n",
    "y_predg_t = model_gb.predict(x_train)"
   ]
  },
  {
   "cell_type": "code",
   "execution_count": 49,
   "metadata": {},
   "outputs": [
    {
     "name": "stdout",
     "output_type": "stream",
     "text": [
      "408.5794155262805\n",
      "87.97313866094255\n"
     ]
    }
   ],
   "source": [
    "error_ =np.mean(np.abs(y_pred-y_test))\n",
    "print(error_)\n",
    "\n",
    "error_ =np.mean(np.abs(y_predg-y_test))\n",
    "print(error_)"
   ]
  },
  {
   "cell_type": "code",
   "execution_count": 50,
   "metadata": {},
   "outputs": [
    {
     "data": {
      "image/png": "[encoded data removed]",
      "text/plain": [
       "<Figure size 432x288 with 1 Axes>"
      ]
     },
     "metadata": {
      "needs_background": "light"
     },
     "output_type": "display_data"
    }
   ],
   "source": [
    "plt.plot(y_pred_t, label='predict train')\n",
    "plt.plot(y_predg_t, label='predict train grad')\n",
    "plt.plot(y_train,'--g', label='train')\n",
    "plt.legend()\n",
    "plt.title('Предсказание train')\n",
    "plt.show()"
   ]
  },
  {
   "cell_type": "code",
   "execution_count": 51,
   "metadata": {},
   "outputs": [
    {
     "data": {
      "image/png": "[encoded data removed]",
      "text/plain": [
       "<Figure size 432x288 with 1 Axes>"
      ]
     },
     "metadata": {
      "needs_background": "light"
     },
     "output_type": "display_data"
    }
   ],
   "source": [
    "#plt.plot(y_pred, label='predict')\n",
    "plt.plot(y_predg, label='predict grad')\n",
    "plt.plot(y_test, '--g',label='test')\n",
    "plt.legend()\n",
    "plt.title('Предсказание test')\n",
    "plt.show()"
   ]
  },
  {
   "cell_type": "markdown",
   "metadata": {},
   "source": [
    "Вообще получилось хорошо :) - довольно точно"
   ]
  },
  {
   "cell_type": "code",
   "execution_count": 52,
   "metadata": {},
   "outputs": [
    {
     "name": "stdout",
     "output_type": "stream",
     "text": [
      "error in MAPE : 2607.7218068814677 %\n"
     ]
    }
   ],
   "source": [
    "error_p =np.mean(np.abs(y_test.reshape((10))-y_predg.reshape((10)))/y_test.reshape((10)))*100\n",
    "\n",
    "print('error in MAPE :', error_p, '%')"
   ]
  },
  {
   "cell_type": "code",
   "execution_count": 53,
   "metadata": {},
   "outputs": [
    {
     "name": "stdout",
     "output_type": "stream",
     "text": [
      "anomal:  [5]\n"
     ]
    }
   ],
   "source": [
    "err = np.abs(y_test.reshape((10))-y_predg.reshape((10)))/y_test.reshape((10))\n",
    "err_std = np.std(err)\n",
    "\n",
    "print('anomal: ', np.where(err>err_std*3)[0])"
   ]
  },
  {
   "cell_type": "code",
   "execution_count": 54,
   "metadata": {},
   "outputs": [
    {
     "data": {
      "text/plain": [
       "array([-1.22016680e+01,  1.50690669e+01,  1.58713744e+01, -1.70138186e-01,\n",
       "       -1.69391071e+02, -6.45925413e+02, -1.14516807e+01, -1.83535956e+01,\n",
       "        3.16492528e+00,  8.39019770e+00])"
      ]
     },
     "execution_count": 54,
     "metadata": {},
     "output_type": "execute_result"
    }
   ],
   "source": [
    "y_test.reshape((10))-y_predg.reshape((10))"
   ]
  },
  {
   "cell_type": "markdown",
   "metadata": {},
   "source": [
    "## Box-Cox преобразование"
   ]
  },
  {
   "cell_type": "code",
   "execution_count": 55,
   "metadata": {},
   "outputs": [],
   "source": [
    "import scipy.stats as scs"
   ]
  },
  {
   "cell_type": "code",
   "execution_count": 56,
   "metadata": {},
   "outputs": [],
   "source": [
    "def invboxcox(y,lmbda):\n",
    "    # обрабтное преобразование Бокса-Кокса\n",
    "    if lmbda == 0:\n",
    "        return(np.exp(y))\n",
    "    else:\n",
    "        return(np.exp(np.log(lmbda*y+1)/lmbda))"
   ]
  },
  {
   "cell_type": "code",
   "execution_count": 94,
   "metadata": {},
   "outputs": [
    {
     "data": {
      "image/png": "[encoded data removed]",
      "text/plain": [
       "<Figure size 432x288 with 1 Axes>"
      ]
     },
     "metadata": {
      "needs_background": "light"
     },
     "output_type": "display_data"
    },
    {
     "data": {
      "image/png": "[encoded data removed]",
      "text/plain": [
       "<Figure size 432x288 with 1 Axes>"
      ]
     },
     "metadata": {
      "needs_background": "light"
     },
     "output_type": "display_data"
    }
   ],
   "source": [
    "\n",
    "X_log0, lmbda0 = scs.boxcox(XX[23:,0]+1)\n",
    "X_log1, lmbda1 = scs.boxcox(XX[23:,1]+1)\n",
    "X_log2, lmbda2 = scs.boxcox(np.abs(XX[23:,2])+1) # добавляю аbs для обхода ошибки в аномалии\n",
    "\n",
    "plt.plot(XX[23:,0], label='(X)0')\n",
    "plt.plot(XX[23:,1], label='(X)1')\n",
    "plt.plot(XX[23:,2], label='(X)2')\n",
    "plt.legend()\n",
    "plt.title(' X')\n",
    "plt.show()\n",
    "\n",
    "plt.plot(X_log0[:], label='log(X)0')\n",
    "plt.plot(X_log1[:], label='log(X)1')\n",
    "plt.plot(X_log2[:], label='log(X)2')\n",
    "plt.legend()\n",
    "plt.title('log X')\n",
    "plt.show()\n"
   ]
  },
  {
   "cell_type": "markdown",
   "metadata": {},
   "source": [
    "Текущее число больных"
   ]
  },
  {
   "cell_type": "code",
   "execution_count": 58,
   "metadata": {},
   "outputs": [
    {
     "data": {
      "image/png": "[encoded data removed]",
      "text/plain": [
       "<Figure size 432x288 with 1 Axes>"
      ]
     },
     "metadata": {
      "needs_background": "light"
     },
     "output_type": "display_data"
    }
   ],
   "source": [
    "X_dif=XX[23:,3]-XX[23:,4]-XX[23:,5]\n",
    "X_dif_log, lmbda_dif = scs.boxcox(X_dif+1)\n",
    "plt.plot(X_dif_log)\n",
    "plt.show()"
   ]
  },
  {
   "cell_type": "markdown",
   "metadata": {},
   "source": [
    "Соберем из Логарифмированных признаков новую модель"
   ]
  },
  {
   "cell_type": "code",
   "execution_count": 59,
   "metadata": {},
   "outputs": [
    {
     "data": {
      "text/plain": [
       "(80, 12)"
      ]
     },
     "execution_count": 59,
     "metadata": {},
     "output_type": "execute_result"
    }
   ],
   "source": [
    "X_log = np.concatenate([X_log0.reshape((X_log0.shape[0],1)),(X_log1).reshape((X_log1.shape[0],1))], axis= 1)\n",
    "X_log = np.concatenate([X_log,(X_log2).reshape((X_log2.shape[0],1))], axis= 1)\n",
    "X_log = np.concatenate([X_log,(X_dif_log).reshape((X_dif_log.shape[0],1))], axis= 1)\n",
    "\n",
    "y = X_log[h+p:,0].reshape((X_log0.shape[0]-h-p,1))\n",
    "\n",
    "X_log_all =[]\n",
    "for i in range(len(y)):\n",
    "    xx = X_log[i:i+p,:]\n",
    "    X_log_all.append(xx.reshape(X_log.shape[1]*p))\n",
    "\n",
    "    N=-10\n",
    "X_log_all=np.array(X_log_all)\n",
    "x_trainl,y_train,x_testl,y_test=X_log_all[:N,:],y[:N,:],X_log_all[N:,:],y[N:,:]\n",
    "\n",
    "x_trainl.shape"
   ]
  },
  {
   "cell_type": "code",
   "execution_count": 60,
   "metadata": {},
   "outputs": [
    {
     "data": {
      "text/plain": [
       "(80, 1)"
      ]
     },
     "execution_count": 60,
     "metadata": {},
     "output_type": "execute_result"
    }
   ],
   "source": [
    "y_train.shape"
   ]
  },
  {
   "cell_type": "code",
   "execution_count": 61,
   "metadata": {},
   "outputs": [
    {
     "name": "stderr",
     "output_type": "stream",
     "text": [
      "C:\\Anaconda\\lib\\site-packages\\sklearn\\ensemble\\_gb.py:1454: DataConversionWarning: A column-vector y was passed when a 1d array was expected. Please change the shape of y to (n_samples, ), for example using ravel().\n",
      "  y = column_or_1d(y, warn=True)\n"
     ]
    },
    {
     "data": {
      "text/plain": [
       "GradientBoostingRegressor(alpha=0.9, ccp_alpha=0.0, criterion='friedman_mse',\n",
       "                          init=None, learning_rate=0.1, loss='ls', max_depth=3,\n",
       "                          max_features=None, max_leaf_nodes=None,\n",
       "                          min_impurity_decrease=0.0, min_impurity_split=None,\n",
       "                          min_samples_leaf=1, min_samples_split=2,\n",
       "                          min_weight_fraction_leaf=0.0, n_estimators=100,\n",
       "                          n_iter_no_change=None, presort='deprecated',\n",
       "                          random_state=None, subsample=1.0, tol=0.0001,\n",
       "                          validation_fraction=0.1, verbose=0, warm_start=False)"
      ]
     },
     "execution_count": 61,
     "metadata": {},
     "output_type": "execute_result"
    }
   ],
   "source": [
    "model_lb.fit(x_trainl,y_train)\n",
    "model_gb.fit(x_trainl,y_train)"
   ]
  },
  {
   "cell_type": "code",
   "execution_count": 62,
   "metadata": {},
   "outputs": [],
   "source": [
    "y_pred = model_lb.predict(x_testl)\n",
    "y_pred_t = model_lb.predict(x_trainl)\n",
    "\n",
    "y_predg = model_gb.predict(x_testl)\n",
    "y_predg_t = model_gb.predict(x_trainl)"
   ]
  },
  {
   "cell_type": "code",
   "execution_count": 63,
   "metadata": {},
   "outputs": [
    {
     "name": "stdout",
     "output_type": "stream",
     "text": [
      "0.7760154367401118\n",
      "0.8119897306539623\n"
     ]
    }
   ],
   "source": [
    "error_ =np.mean(np.abs(y_pred-y_test))\n",
    "print(error_)\n",
    "\n",
    "error_ =np.mean(np.abs(y_predg-y_test))\n",
    "print(error_)"
   ]
  },
  {
   "cell_type": "code",
   "execution_count": 64,
   "metadata": {},
   "outputs": [
    {
     "data": {
      "image/png": "[encoded data removed]",
      "text/plain": [
       "<Figure size 432x288 with 1 Axes>"
      ]
     },
     "metadata": {
      "needs_background": "light"
     },
     "output_type": "display_data"
    },
    {
     "data": {
      "image/png": "[encoded data removed]",
      "text/plain": [
       "<Figure size 432x288 with 1 Axes>"
      ]
     },
     "metadata": {
      "needs_background": "light"
     },
     "output_type": "display_data"
    },
    {
     "data": {
      "image/png": "[encoded data removed]",
      "text/plain": [
       "<Figure size 432x288 with 1 Axes>"
      ]
     },
     "metadata": {
      "needs_background": "light"
     },
     "output_type": "display_data"
    }
   ],
   "source": [
    "plt.plot(y_pred_t, label='predict train')\n",
    "plt.plot(y_predg_t, label='predict train grad')\n",
    "plt.plot(y_train,'--g', label='train')\n",
    "plt.legend()\n",
    "plt.title('Предсказание train')\n",
    "plt.show()\n",
    "plt.plot(y_pred, label='predict')\n",
    "plt.plot(y_predg, label='predict grad')\n",
    "plt.plot(y_test, '--g',label='test')\n",
    "plt.legend()\n",
    "plt.title('Предсказание test')\n",
    "plt.show()\n",
    "\n",
    "#plt.plot(invboxcox(y_pred,lmbda0), label='predict')\n",
    "plt.plot(invboxcox(y_predg,lmbda0), label='predict grad')\n",
    "plt.plot(invboxcox(y_test,lmbda0), '--g',label='test')\n",
    "plt.legend()\n",
    "plt.title('Предсказание test восстановленная версия')\n",
    "plt.show()"
   ]
  },
  {
   "cell_type": "code",
   "execution_count": 65,
   "metadata": {},
   "outputs": [
    {
     "name": "stdout",
     "output_type": "stream",
     "text": [
      "MAPE : 58.620000875235135\n"
     ]
    }
   ],
   "source": [
    "error_p =np.mean(np.abs(invboxcox(y_predg,lmbda0)-invboxcox(y_test,lmbda0))/invboxcox(y_test,lmbda0))*100\n",
    "print('MAPE :' , error_p)"
   ]
  },
  {
   "cell_type": "code",
   "execution_count": 66,
   "metadata": {},
   "outputs": [
    {
     "name": "stdout",
     "output_type": "stream",
     "text": [
      "MAPE : 138.93298059964724\n"
     ]
    }
   ],
   "source": [
    "error_p =np.mean(np.abs(invboxcox(y_test[1:],lmbda0)-invboxcox(y_test[:-1],lmbda0))/invboxcox(y_test[:-1],lmbda0))*100\n",
    "print('MAPE :' , error_p)"
   ]
  },
  {
   "cell_type": "code",
   "execution_count": 67,
   "metadata": {},
   "outputs": [
    {
     "name": "stdout",
     "output_type": "stream",
     "text": [
      "MAPE : 86.54285714285714\n"
     ]
    }
   ],
   "source": [
    "error_p =np.mean(np.abs(invboxcox(y_test,lmbda0)-np.mean(invboxcox(y_test,lmbda0)))/invboxcox(y_test,lmbda0))*100\n",
    "print('MAPE :' , error_p)"
   ]
  },
  {
   "cell_type": "code",
   "execution_count": 68,
   "metadata": {},
   "outputs": [],
   "source": [
    "import statsmodels.api as sm\n",
    "from statsmodels.tsa.arima_model import ARIMA"
   ]
  },
  {
   "cell_type": "code",
   "execution_count": 69,
   "metadata": {},
   "outputs": [],
   "source": [
    "X_x = X_log_all[:,0]\n",
    "\n",
    "#X_x = X_dif_log"
   ]
  },
  {
   "cell_type": "code",
   "execution_count": 70,
   "metadata": {},
   "outputs": [
    {
     "data": {
      "image/png": "[encoded data removed]",
      "text/plain": [
       "<Figure size 432x288 with 1 Axes>"
      ]
     },
     "metadata": {
      "needs_background": "light"
     },
     "output_type": "display_data"
    },
    {
     "data": {
      "image/png": "[encoded data removed]",
      "text/plain": [
       "<Figure size 432x288 with 1 Axes>"
      ]
     },
     "metadata": {
      "needs_background": "light"
     },
     "output_type": "display_data"
    }
   ],
   "source": [
    "sm.graphics.tsa.plot_acf(X_x, lags=14)\n",
    "plt.show()\n",
    "sm.graphics.tsa.plot_pacf(X_x, lags=14)\n",
    "plt.show()"
   ]
  },
  {
   "cell_type": "markdown",
   "metadata": {},
   "source": [
    "смотримм на PACF - 1-е значение имеет смысл - d=1\n",
    "\n",
    "смотрим на acf - РАВНОМЕРНО ПАДАЕТ, ИСТОРИЯ НА ГЛУБИНУ НЕ БОЛЕЕ 4 ДНЕЙ - Р<= 4"
   ]
  },
  {
   "cell_type": "code",
   "execution_count": 71,
   "metadata": {},
   "outputs": [
    {
     "data": {
      "image/png": "[encoded data removed]",
      "text/plain": [
       "<Figure size 432x288 with 1 Axes>"
      ]
     },
     "metadata": {
      "needs_background": "light"
     },
     "output_type": "display_data"
    }
   ],
   "source": [
    "N=10    # число точек для теста\n",
    "# строим модель\n",
    "\n",
    "model = ARIMA(X_x[:-N], order=(6, 1,2))\n",
    "model_fit = model.fit(disp=False)\n",
    "# делаем оценку старых значений\n",
    "y_p = model_fit.predict(len(X_x[:-N]), len(X_x[:-N]), typ='levels')\n",
    "y_f = model_fit.forecast(2*N)\n",
    "plt.plot(X_x[-N:],'r',label ='true')\n",
    "plt.plot(y_p,'*b',label ='model')\n",
    "plt.plot(np.arange(2*N),y_f[0],'g',label ='predict')\n",
    "plt.plot(np.arange(2*N),y_f[2][:,1],'--g', label = 'граница')\n",
    "plt.plot(np.arange(2*N),y_f[2][:,0],'--g')\n",
    "plt.xlabel('x')\n",
    "plt.ylabel('data_model')\n",
    "plt.title('Предсказание последних N точек ряда  и следующих N точек ряда')\n",
    "plt.legend()\n",
    "plt.show()"
   ]
  },
  {
   "cell_type": "code",
   "execution_count": null,
   "metadata": {},
   "outputs": [],
   "source": []
  },
  {
   "cell_type": "code",
   "execution_count": null,
   "metadata": {},
   "outputs": [],
   "source": []
  }
 ],
 "metadata": {
  "kernelspec": {
   "display_name": "Python 3",
   "language": "python",
   "name": "python3"
  },
  "language_info": {
   "codemirror_mode": {
    "name": "ipython",
    "version": 3
   },
   "file_extension": ".py",
   "mimetype": "text/x-python",
   "name": "python",
   "nbconvert_exporter": "python",
   "pygments_lexer": "ipython3",
   "version": "3.7.6"
  }
 },
 "nbformat": 4,
 "nbformat_minor": 2
}
