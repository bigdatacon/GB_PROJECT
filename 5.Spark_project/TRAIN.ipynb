{
 "cells": [
  {
   "cell_type": "code",
   "execution_count": null,
   "metadata": {},
   "outputs": [],
   "source": [
    "from pyspark.ml import Pipeline, PipelineModel\n",
    "from pyspark.sql import SparkSession, DataFrame\n",
    "from pyspark.sql.types import StructType, StringType, IntegerType, TimestampType\n",
    "from pyspark.sql import functions as F\n",
    "from pyspark.ml.classification import LogisticRegression\n",
    "from pyspark.ml.feature import OneHotEncoderEstimator, VectorAssembler, CountVectorizer, StringIndexer, IndexToString\n",
    "\n",
    "dftr = spark.read.load(\"data_train_py.csv\",\n",
    "                     format=\"csv\", sep=\",\", inferSchema=\"true\", header=\"true\")\n",
    "\n",
    "## Cчитаем median_house_value-'это таргет по аналогии как на уроке смотрели \"сегмент\"'\n",
    "\n",
    "categoricalColumns = ['ocean_proximity']\n",
    "stages = []\n",
    "for categoricalCol in categoricalColumns:\n",
    "    stringIndexer = StringIndexer(inputCol = categoricalCol, outputCol = categoricalCol + 'Index').setHandleInvalid(\"keep\")\n",
    "    encoder = OneHotEncoderEstimator(inputCols=[stringIndexer.getOutputCol()], outputCols=[categoricalCol + \"classVec\"]).setHandleInvalid(\"keep\")\n",
    "    stages += [stringIndexer, encoder]\n",
    "\n",
    "label_stringIdx = StringIndexer(inputCol = 'median_house_value', outputCol = 'label').setHandleInvalid(\"keep\")\n",
    "stages += [label_stringIdx]\n",
    "\n",
    "\n",
    "numericCols = ['housing_median_age','total_rooms','total_bedrooms','median_income']\n",
    "assemblerInputs = [c + \"classVec\" for c in categoricalColumns] + numericCols\n",
    "assembler = VectorAssembler(inputCols=assemblerInputs, outputCol=\"features\").setHandleInvalid(\"keep\")\n",
    "stages += [assembler]\n",
    "\n",
    "lr = LogisticRegression(featuresCol = 'features', labelCol = 'label', maxIter=10)\n",
    "stages += [lr]\n",
    "\n",
    "\n",
    "label_stringIdx_fit = label_stringIdx.fit(dftr)\n",
    "indexToStringEstimator = IndexToString().setInputCol(\"prediction\").setOutputCol(\"predict_value\").setLabels(  label_stringIdx_fit.labels)\n",
    "\n",
    "stages +=[indexToStringEstimator]\n",
    "\n",
    "pipeline = Pipeline().setStages(stages)\n",
    "pipelineModel = pipeline.fit(dftr)\n",
    "\n",
    "#сохраняем модель на HDFS\n",
    "pipelineModel.write().overwrite().save(\"my_LR_model8\")\n",
    "\n",
    "###для наглядности\n",
    "pipelineModel.transform(dftr).select(\"median_house_value\", \"predict_value\").show(100)\n"
   ]
  }
 ],
 "metadata": {
  "kernelspec": {
   "display_name": "Python 3",
   "language": "python",
   "name": "python3"
  },
  "language_info": {
   "codemirror_mode": {
    "name": "ipython",
    "version": 3
   },
   "file_extension": ".py",
   "mimetype": "text/x-python",
   "name": "python",
   "nbconvert_exporter": "python",
   "pygments_lexer": "ipython3",
   "version": "3.7.6"
  }
 },
 "nbformat": 4,
 "nbformat_minor": 4
}
