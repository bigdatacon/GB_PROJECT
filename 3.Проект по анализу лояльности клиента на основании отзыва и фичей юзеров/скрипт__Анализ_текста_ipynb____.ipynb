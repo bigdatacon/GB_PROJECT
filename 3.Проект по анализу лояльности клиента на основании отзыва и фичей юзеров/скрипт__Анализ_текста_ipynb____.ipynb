{
  "nbformat": 4,
  "nbformat_minor": 0,
  "metadata": {
    "kernelspec": {
      "display_name": "Python 3",
      "language": "python",
      "name": "python3"
    },
    "language_info": {
      "codemirror_mode": {
        "name": "ipython",
        "version": 3
      },
      "file_extension": ".py",
      "mimetype": "text/x-python",
      "name": "python",
      "nbconvert_exporter": "python",
      "pygments_lexer": "ipython3",
      "version": "3.7.3"
    },
    "colab": {
      "name": "Тетрадка по скрипту \"Анализ текста .ipynb\"\"\"\"",
      "provenance": [],
      "collapsed_sections": []
    }
  },
  "cells": [
    {
      "cell_type": "code",
      "metadata": {
        "colab": {
          "base_uri": "https://localhost:8080/"
        },
        "id": "DhMQuLr0sClM",
        "outputId": "07537af1-f241-4df4-d331-45978dd35953"
      },
      "source": [
        "import pandas as pd\n",
        "import re\n",
        "import numpy as np\n",
        "import nltk\n",
        "from sklearn.feature_extraction.text import TfidfVectorizer, CountVectorizer, TfidfTransformer\n",
        "from sklearn.linear_model import LogisticRegression, SGDClassifier\n",
        "from sklearn.svm import LinearSVC\n",
        "from sklearn.model_selection import cross_val_score\n",
        "from sklearn.pipeline import Pipeline\n",
        "from pandas import DataFrame\n",
        "nltk.download('stopwords')\n",
        "from nltk.corpus import stopwords\n",
        "from nltk.stem import WordNetLemmatizer\n",
        "from nltk.tokenize import word_tokenize\n",
        "from numpy import dtype\n",
        "import warnings \n",
        "warnings.filterwarnings('ignore')\n",
        "from sklearn.model_selection import train_test_split\n",
        "from imblearn.over_sampling import SMOTE\n",
        "from scipy import sparse\n",
        "from sklearn import preprocessing\n",
        "import random\n",
        "from random import randint\n",
        "from sklearn.ensemble import GradientBoostingClassifier\n"
      ],
      "execution_count": null,
      "outputs": [
        {
          "output_type": "stream",
          "text": [
            "[nltk_data] Downloading package stopwords to /root/nltk_data...\n",
            "[nltk_data]   Unzipping corpora/stopwords.zip.\n"
          ],
          "name": "stdout"
        }
      ]
    },
    {
      "cell_type": "markdown",
      "metadata": {
        "id": "Nr10wD6M4FjL"
      },
      "source": [
        "**Скрипт по анализу текста с учетом прочих фичей (возраст, сумма покупки) на итоговую лояльность клиента**"
      ]
    },
    {
      "cell_type": "code",
      "metadata": {
        "colab": {
          "base_uri": "https://localhost:8080/"
        },
        "id": "BqVxmJHOsClR",
        "outputId": "13ae131a-d0a0-4dbc-89f8-6b06b8d9c894"
      },
      "source": [
        "nltk.download('punkt')"
      ],
      "execution_count": null,
      "outputs": [
        {
          "output_type": "stream",
          "text": [
            "[nltk_data] Downloading package punkt to /root/nltk_data...\n",
            "[nltk_data]   Unzipping tokenizers/punkt.zip.\n"
          ],
          "name": "stdout"
        },
        {
          "output_type": "execute_result",
          "data": {
            "text/plain": [
              "True"
            ]
          },
          "metadata": {
            "tags": []
          },
          "execution_count": 2
        }
      ]
    },
    {
      "cell_type": "code",
      "metadata": {
        "colab": {
          "base_uri": "https://localhost:8080/"
        },
        "id": "meKDcxS0sOM6",
        "outputId": "f03c6a39-3b7d-457a-e1f7-9babeee987a3"
      },
      "source": [
        "from google.colab import drive\r\n",
        "drive.mount('/content/drive')"
      ],
      "execution_count": null,
      "outputs": [
        {
          "output_type": "stream",
          "text": [
            "Mounted at /content/drive\n"
          ],
          "name": "stdout"
        }
      ]
    },
    {
      "cell_type": "code",
      "metadata": {
        "id": "0yDbjO_asClR"
      },
      "source": [
        "# file_folder = 'Issue_MOCK_Data_v0 - Sheet1.csv'\r\n",
        "df= pd.read_csv('/content/drive/My Drive/file_name2.csv', low_memory=False)\r\n"
      ],
      "execution_count": null,
      "outputs": []
    },
    {
      "cell_type": "code",
      "metadata": {
        "id": "VjB2yD7RaeJE",
        "colab": {
          "base_uri": "https://localhost:8080/",
          "height": 347
        },
        "outputId": "8c25cd25-e9aa-4ee3-db78-3fd4647abbe2"
      },
      "source": [
        "df.drop(['Unnamed: 1', 'Unnamed: 2', 'Unnamed: 3', 'Unnamed: 0','Unnamed: 4', 'Unnamed: 5', 'Unnamed: 6'] , axis='columns', inplace=True)\r\n",
        "df.head(10)\r\n"
      ],
      "execution_count": null,
      "outputs": [
        {
          "output_type": "execute_result",
          "data": {
            "text/html": [
              "<div>\n",
              "<style scoped>\n",
              "    .dataframe tbody tr th:only-of-type {\n",
              "        vertical-align: middle;\n",
              "    }\n",
              "\n",
              "    .dataframe tbody tr th {\n",
              "        vertical-align: top;\n",
              "    }\n",
              "\n",
              "    .dataframe thead th {\n",
              "        text-align: right;\n",
              "    }\n",
              "</style>\n",
              "<table border=\"1\" class=\"dataframe\">\n",
              "  <thead>\n",
              "    <tr style=\"text-align: right;\">\n",
              "      <th></th>\n",
              "      <th>user_id</th>\n",
              "      <th>LABEL</th>\n",
              "      <th>theme</th>\n",
              "      <th>feedback</th>\n",
              "      <th>ful_feedback</th>\n",
              "      <th>characters</th>\n",
              "    </tr>\n",
              "  </thead>\n",
              "  <tbody>\n",
              "    <tr>\n",
              "      <th>0</th>\n",
              "      <td>1.0</td>\n",
              "      <td>позитивный</td>\n",
              "      <td>восхитительный устаревший восхитительный невра...</td>\n",
              "      <td>тщедушный круто ужасный современный от назойли...</td>\n",
              "      <td>Vestibulum ante ipsum primis in faucibus orci ...</td>\n",
              "      <td>NaN</td>\n",
              "    </tr>\n",
              "    <tr>\n",
              "      <th>1</th>\n",
              "      <td>2.0</td>\n",
              "      <td>нейтральный</td>\n",
              "      <td>восхитительный устаревший восхитительный невра...</td>\n",
              "      <td>тщедушный круто ужасный современный от назойли...</td>\n",
              "      <td>NaN</td>\n",
              "      <td>NaN</td>\n",
              "    </tr>\n",
              "    <tr>\n",
              "      <th>2</th>\n",
              "      <td>3.0</td>\n",
              "      <td>колеблющийся</td>\n",
              "      <td>восхитительный устаревший восхитительный невра...</td>\n",
              "      <td>тщедушный круто ужасный современный от назойли...</td>\n",
              "      <td>Vivamus vestibulum sagittis sapien. Cum sociis...</td>\n",
              "      <td>ultrices posuere cubilia</td>\n",
              "    </tr>\n",
              "    <tr>\n",
              "      <th>3</th>\n",
              "      <td>4.0</td>\n",
              "      <td>колеблющийся</td>\n",
              "      <td>восхитительный устаревший восхитительный невра...</td>\n",
              "      <td>тщедушный круто ужасный современный от назойли...</td>\n",
              "      <td>In hac habitasse platea dictumst. Maecenas ut ...</td>\n",
              "      <td>NaN</td>\n",
              "    </tr>\n",
              "    <tr>\n",
              "      <th>4</th>\n",
              "      <td>5.0</td>\n",
              "      <td>колеблющийся</td>\n",
              "      <td>восхитительный устаревший восхитительный невра...</td>\n",
              "      <td>тщедушный круто ужасный современный от назойли...</td>\n",
              "      <td>NaN</td>\n",
              "      <td>dui</td>\n",
              "    </tr>\n",
              "    <tr>\n",
              "      <th>5</th>\n",
              "      <td>6.0</td>\n",
              "      <td>нейтральный</td>\n",
              "      <td>восхитительный устаревший восхитительный невра...</td>\n",
              "      <td>тщедушный круто ужасный современный от назойли...</td>\n",
              "      <td>NaN</td>\n",
              "      <td>nunc</td>\n",
              "    </tr>\n",
              "    <tr>\n",
              "      <th>6</th>\n",
              "      <td>7.0</td>\n",
              "      <td>нейтральный</td>\n",
              "      <td>восхитительный устаревший восхитительный невра...</td>\n",
              "      <td>тщедушный круто ужасный современный от назойли...</td>\n",
              "      <td>NaN</td>\n",
              "      <td>nonummy integer</td>\n",
              "    </tr>\n",
              "    <tr>\n",
              "      <th>7</th>\n",
              "      <td>8.0</td>\n",
              "      <td>колеблющийся</td>\n",
              "      <td>восхитительный устаревший восхитительный невра...</td>\n",
              "      <td>тщедушный круто ужасный современный от назойли...</td>\n",
              "      <td>Morbi vel lectus in quam fringilla rhoncus.</td>\n",
              "      <td>ut</td>\n",
              "    </tr>\n",
              "    <tr>\n",
              "      <th>8</th>\n",
              "      <td>9.0</td>\n",
              "      <td>позитивный</td>\n",
              "      <td>восхитительный устаревший восхитительный невра...</td>\n",
              "      <td>тщедушный круто ужасный современный от назойли...</td>\n",
              "      <td>Pellentesque ultrices mattis odio.</td>\n",
              "      <td>sit amet</td>\n",
              "    </tr>\n",
              "    <tr>\n",
              "      <th>9</th>\n",
              "      <td>10.0</td>\n",
              "      <td>отрицательный</td>\n",
              "      <td>восхитительный устаревший восхитительный невра...</td>\n",
              "      <td>тщедушный круто ужасный современный от назойли...</td>\n",
              "      <td>Integer aliquet, massa id lobortis convallis, ...</td>\n",
              "      <td>sapien</td>\n",
              "    </tr>\n",
              "  </tbody>\n",
              "</table>\n",
              "</div>"
            ],
            "text/plain": [
              "   user_id  ...                characters\n",
              "0      1.0  ...                       NaN\n",
              "1      2.0  ...                       NaN\n",
              "2      3.0  ...  ultrices posuere cubilia\n",
              "3      4.0  ...                       NaN\n",
              "4      5.0  ...                       dui\n",
              "5      6.0  ...                      nunc\n",
              "6      7.0  ...           nonummy integer\n",
              "7      8.0  ...                        ut\n",
              "8      9.0  ...                  sit amet\n",
              "9     10.0  ...                    sapien\n",
              "\n",
              "[10 rows x 6 columns]"
            ]
          },
          "metadata": {
            "tags": []
          },
          "execution_count": 5
        }
      ]
    },
    {
      "cell_type": "code",
      "metadata": {
        "id": "6-8PQMrDvXK0"
      },
      "source": [
        "df = df.drop(['ful_feedback'], axis=1)"
      ],
      "execution_count": null,
      "outputs": []
    },
    {
      "cell_type": "code",
      "metadata": {
        "colab": {
          "base_uri": "https://localhost:8080/"
        },
        "id": "zFL9ZsyS3oAZ",
        "outputId": "6b7d2fc8-c99f-404a-ad76-775f28628e0a"
      },
      "source": [
        "df.info(2)"
      ],
      "execution_count": null,
      "outputs": [
        {
          "output_type": "stream",
          "text": [
            "<class 'pandas.core.frame.DataFrame'>\n",
            "RangeIndex: 570 entries, 0 to 569\n",
            "Data columns (total 5 columns):\n",
            " #   Column      Non-Null Count  Dtype  \n",
            "---  ------      --------------  -----  \n",
            " 0   user_id     565 non-null    float64\n",
            " 1   LABEL       570 non-null    object \n",
            " 2   theme       569 non-null    object \n",
            " 3   feedback    569 non-null    object \n",
            " 4   characters  318 non-null    object \n",
            "dtypes: float64(1), object(4)\n",
            "memory usage: 22.4+ KB\n"
          ],
          "name": "stdout"
        }
      ]
    },
    {
      "cell_type": "markdown",
      "metadata": {
        "id": "XiHGNrEW3rth"
      },
      "source": [
        "0. **LABEL** - итоговая лояльность клиента на тестовых данных\r\n",
        "1.   **feedback** - обратная связь от клиента (собственно его отзыв)\r\n",
        "2.   **characters** - дополнительные характеристики клиента \r\n",
        "3. **purchase_value** - сумма покупок по клиенту \r\n",
        "4. **ISSUE_TEXT** - общий тест отзыва вместе с темой (конкатенирован)\r\n",
        "5. **ISSUE_TEXT** - общий тест отзыва вместе с темой (конкатенирован)\r\n",
        "\r\n",
        "\r\n"
      ]
    },
    {
      "cell_type": "code",
      "metadata": {
        "id": "EH4RpEAAsClS",
        "colab": {
          "base_uri": "https://localhost:8080/"
        },
        "outputId": "518ee98c-ee95-484c-8935-ae7bc407671c"
      },
      "source": [
        "total_count, total_cols = df.shape\n",
        "print(\"Dataframe contains {} observations across {} columns\".format(total_count, total_cols))"
      ],
      "execution_count": null,
      "outputs": [
        {
          "output_type": "stream",
          "text": [
            "Dataframe contains 570 observations across 5 columns\n"
          ],
          "name": "stdout"
        }
      ]
    },
    {
      "cell_type": "code",
      "metadata": {
        "id": "DeicY3-esClS",
        "colab": {
          "base_uri": "https://localhost:8080/"
        },
        "outputId": "e6a74e45-cf47-4753-ccfe-77cf98742dd1"
      },
      "source": [
        "df.groupby('LABEL').size()\r\n"
      ],
      "execution_count": null,
      "outputs": [
        {
          "output_type": "execute_result",
          "data": {
            "text/plain": [
              "LABEL\n",
              "колеблющийся     145\n",
              "нейтральный      142\n",
              "отрицательный    145\n",
              "позитивный       138\n",
              "dtype: int64"
            ]
          },
          "metadata": {
            "tags": []
          },
          "execution_count": 9
        }
      ]
    },
    {
      "cell_type": "code",
      "metadata": {
        "id": "_Ls3dglVsClT"
      },
      "source": [
        "df['LABEL'] = df['LABEL'].fillna(value=\"NOT DEFINED\")"
      ],
      "execution_count": null,
      "outputs": []
    },
    {
      "cell_type": "code",
      "metadata": {
        "id": "EZr6-9DKsClT"
      },
      "source": [
        "df['user_id'] = df['user_id'].fillna(value=9999)\r\n",
        "df['theme'] = df['theme'].fillna(value=\"нет данных\")\r\n",
        "df['feedback'] = df['feedback'].fillna(value=\"нет данных\")"
      ],
      "execution_count": null,
      "outputs": []
    },
    {
      "cell_type": "code",
      "metadata": {
        "id": "NsshvqFCsClT"
      },
      "source": [
        "from random import randint \r\n",
        "age = [randint(18,80) for x in range(50)]\r\n",
        "purchase_value = [randint(500,5000) for x in range(2000)]\r\n",
        "df['characters'] = df['characters'].fillna(value=\"\")\r\n",
        "df['age'] = 0\r\n",
        "for i in range(len(df['age'])):\r\n",
        "  df['age'][i] = random.choice(age)\r\n",
        "df['purchase_value'] = 0\r\n",
        "for i in range(len(df['purchase_value'])):\r\n",
        "  df['purchase_value'][i] = random.choice(purchase_value)\r\n",
        "\r\n"
      ],
      "execution_count": null,
      "outputs": []
    },
    {
      "cell_type": "code",
      "metadata": {
        "id": "A53EyMRqsClU",
        "colab": {
          "base_uri": "https://localhost:8080/"
        },
        "outputId": "0e8784ca-5040-460a-d212-e49092918e4a"
      },
      "source": [
        "df.isna().sum()"
      ],
      "execution_count": null,
      "outputs": [
        {
          "output_type": "execute_result",
          "data": {
            "text/plain": [
              "user_id           0\n",
              "LABEL             0\n",
              "theme             0\n",
              "feedback          0\n",
              "characters        0\n",
              "age               0\n",
              "purchase_value    0\n",
              "dtype: int64"
            ]
          },
          "metadata": {
            "tags": []
          },
          "execution_count": 13
        }
      ]
    },
    {
      "cell_type": "code",
      "metadata": {
        "id": "-HQVEWvrsClU",
        "colab": {
          "base_uri": "https://localhost:8080/"
        },
        "outputId": "686d9364-33f8-458a-edf2-0b3da9203e69"
      },
      "source": [
        "df['ISSUE_TEXT'] = df['theme'] + df['feedback']\r\n",
        "df.columns"
      ],
      "execution_count": null,
      "outputs": [
        {
          "output_type": "execute_result",
          "data": {
            "text/plain": [
              "Index(['user_id', 'LABEL', 'theme', 'feedback', 'characters', 'age',\n",
              "       'purchase_value', 'ISSUE_TEXT'],\n",
              "      dtype='object')"
            ]
          },
          "metadata": {
            "tags": []
          },
          "execution_count": 14
        }
      ]
    },
    {
      "cell_type": "code",
      "metadata": {
        "id": "lRoKc2HCsClU",
        "colab": {
          "base_uri": "https://localhost:8080/",
          "height": 347
        },
        "outputId": "a9bbc2f4-b883-42e3-b4c6-927a33a75b03"
      },
      "source": [
        "df.head(10)"
      ],
      "execution_count": null,
      "outputs": [
        {
          "output_type": "execute_result",
          "data": {
            "text/html": [
              "<div>\n",
              "<style scoped>\n",
              "    .dataframe tbody tr th:only-of-type {\n",
              "        vertical-align: middle;\n",
              "    }\n",
              "\n",
              "    .dataframe tbody tr th {\n",
              "        vertical-align: top;\n",
              "    }\n",
              "\n",
              "    .dataframe thead th {\n",
              "        text-align: right;\n",
              "    }\n",
              "</style>\n",
              "<table border=\"1\" class=\"dataframe\">\n",
              "  <thead>\n",
              "    <tr style=\"text-align: right;\">\n",
              "      <th></th>\n",
              "      <th>user_id</th>\n",
              "      <th>LABEL</th>\n",
              "      <th>theme</th>\n",
              "      <th>feedback</th>\n",
              "      <th>characters</th>\n",
              "      <th>age</th>\n",
              "      <th>purchase_value</th>\n",
              "      <th>ISSUE_TEXT</th>\n",
              "    </tr>\n",
              "  </thead>\n",
              "  <tbody>\n",
              "    <tr>\n",
              "      <th>0</th>\n",
              "      <td>1.0</td>\n",
              "      <td>позитивный</td>\n",
              "      <td>восхитительный устаревший восхитительный невра...</td>\n",
              "      <td>тщедушный круто ужасный современный от назойли...</td>\n",
              "      <td></td>\n",
              "      <td>37</td>\n",
              "      <td>4734</td>\n",
              "      <td>восхитительный устаревший восхитительный невра...</td>\n",
              "    </tr>\n",
              "    <tr>\n",
              "      <th>1</th>\n",
              "      <td>2.0</td>\n",
              "      <td>нейтральный</td>\n",
              "      <td>восхитительный устаревший восхитительный невра...</td>\n",
              "      <td>тщедушный круто ужасный современный от назойли...</td>\n",
              "      <td></td>\n",
              "      <td>76</td>\n",
              "      <td>3685</td>\n",
              "      <td>восхитительный устаревший восхитительный невра...</td>\n",
              "    </tr>\n",
              "    <tr>\n",
              "      <th>2</th>\n",
              "      <td>3.0</td>\n",
              "      <td>колеблющийся</td>\n",
              "      <td>восхитительный устаревший восхитительный невра...</td>\n",
              "      <td>тщедушный круто ужасный современный от назойли...</td>\n",
              "      <td>ultrices posuere cubilia</td>\n",
              "      <td>66</td>\n",
              "      <td>3941</td>\n",
              "      <td>восхитительный устаревший восхитительный невра...</td>\n",
              "    </tr>\n",
              "    <tr>\n",
              "      <th>3</th>\n",
              "      <td>4.0</td>\n",
              "      <td>колеблющийся</td>\n",
              "      <td>восхитительный устаревший восхитительный невра...</td>\n",
              "      <td>тщедушный круто ужасный современный от назойли...</td>\n",
              "      <td></td>\n",
              "      <td>69</td>\n",
              "      <td>4869</td>\n",
              "      <td>восхитительный устаревший восхитительный невра...</td>\n",
              "    </tr>\n",
              "    <tr>\n",
              "      <th>4</th>\n",
              "      <td>5.0</td>\n",
              "      <td>колеблющийся</td>\n",
              "      <td>восхитительный устаревший восхитительный невра...</td>\n",
              "      <td>тщедушный круто ужасный современный от назойли...</td>\n",
              "      <td>dui</td>\n",
              "      <td>59</td>\n",
              "      <td>4163</td>\n",
              "      <td>восхитительный устаревший восхитительный невра...</td>\n",
              "    </tr>\n",
              "    <tr>\n",
              "      <th>5</th>\n",
              "      <td>6.0</td>\n",
              "      <td>нейтральный</td>\n",
              "      <td>восхитительный устаревший восхитительный невра...</td>\n",
              "      <td>тщедушный круто ужасный современный от назойли...</td>\n",
              "      <td>nunc</td>\n",
              "      <td>36</td>\n",
              "      <td>3197</td>\n",
              "      <td>восхитительный устаревший восхитительный невра...</td>\n",
              "    </tr>\n",
              "    <tr>\n",
              "      <th>6</th>\n",
              "      <td>7.0</td>\n",
              "      <td>нейтральный</td>\n",
              "      <td>восхитительный устаревший восхитительный невра...</td>\n",
              "      <td>тщедушный круто ужасный современный от назойли...</td>\n",
              "      <td>nonummy integer</td>\n",
              "      <td>31</td>\n",
              "      <td>1056</td>\n",
              "      <td>восхитительный устаревший восхитительный невра...</td>\n",
              "    </tr>\n",
              "    <tr>\n",
              "      <th>7</th>\n",
              "      <td>8.0</td>\n",
              "      <td>колеблющийся</td>\n",
              "      <td>восхитительный устаревший восхитительный невра...</td>\n",
              "      <td>тщедушный круто ужасный современный от назойли...</td>\n",
              "      <td>ut</td>\n",
              "      <td>26</td>\n",
              "      <td>929</td>\n",
              "      <td>восхитительный устаревший восхитительный невра...</td>\n",
              "    </tr>\n",
              "    <tr>\n",
              "      <th>8</th>\n",
              "      <td>9.0</td>\n",
              "      <td>позитивный</td>\n",
              "      <td>восхитительный устаревший восхитительный невра...</td>\n",
              "      <td>тщедушный круто ужасный современный от назойли...</td>\n",
              "      <td>sit amet</td>\n",
              "      <td>57</td>\n",
              "      <td>1956</td>\n",
              "      <td>восхитительный устаревший восхитительный невра...</td>\n",
              "    </tr>\n",
              "    <tr>\n",
              "      <th>9</th>\n",
              "      <td>10.0</td>\n",
              "      <td>отрицательный</td>\n",
              "      <td>восхитительный устаревший восхитительный невра...</td>\n",
              "      <td>тщедушный круто ужасный современный от назойли...</td>\n",
              "      <td>sapien</td>\n",
              "      <td>67</td>\n",
              "      <td>4402</td>\n",
              "      <td>восхитительный устаревший восхитительный невра...</td>\n",
              "    </tr>\n",
              "  </tbody>\n",
              "</table>\n",
              "</div>"
            ],
            "text/plain": [
              "   user_id  ...                                         ISSUE_TEXT\n",
              "0      1.0  ...  восхитительный устаревший восхитительный невра...\n",
              "1      2.0  ...  восхитительный устаревший восхитительный невра...\n",
              "2      3.0  ...  восхитительный устаревший восхитительный невра...\n",
              "3      4.0  ...  восхитительный устаревший восхитительный невра...\n",
              "4      5.0  ...  восхитительный устаревший восхитительный невра...\n",
              "5      6.0  ...  восхитительный устаревший восхитительный невра...\n",
              "6      7.0  ...  восхитительный устаревший восхитительный невра...\n",
              "7      8.0  ...  восхитительный устаревший восхитительный невра...\n",
              "8      9.0  ...  восхитительный устаревший восхитительный невра...\n",
              "9     10.0  ...  восхитительный устаревший восхитительный невра...\n",
              "\n",
              "[10 rows x 8 columns]"
            ]
          },
          "metadata": {
            "tags": []
          },
          "execution_count": 15
        }
      ]
    },
    {
      "cell_type": "code",
      "metadata": {
        "id": "M1DjFnSbsClU"
      },
      "source": [
        "encoded_labels = pd.get_dummies(df['LABEL'])"
      ],
      "execution_count": null,
      "outputs": []
    },
    {
      "cell_type": "code",
      "metadata": {
        "id": "QgHD1__0sClU",
        "colab": {
          "base_uri": "https://localhost:8080/"
        },
        "outputId": "a05e9c31-8d56-4c90-e7ea-c244e9f21985"
      },
      "source": [
        "df = pd.concat([df, encoded_labels], axis = 1)\n",
        "df.info()"
      ],
      "execution_count": null,
      "outputs": [
        {
          "output_type": "stream",
          "text": [
            "<class 'pandas.core.frame.DataFrame'>\n",
            "RangeIndex: 570 entries, 0 to 569\n",
            "Data columns (total 12 columns):\n",
            " #   Column          Non-Null Count  Dtype  \n",
            "---  ------          --------------  -----  \n",
            " 0   user_id         570 non-null    float64\n",
            " 1   LABEL           570 non-null    object \n",
            " 2   theme           570 non-null    object \n",
            " 3   feedback        570 non-null    object \n",
            " 4   characters      570 non-null    object \n",
            " 5   age             570 non-null    int64  \n",
            " 6   purchase_value  570 non-null    int64  \n",
            " 7   ISSUE_TEXT      570 non-null    object \n",
            " 8   колеблющийся    570 non-null    uint8  \n",
            " 9   нейтральный     570 non-null    uint8  \n",
            " 10  отрицательный   570 non-null    uint8  \n",
            " 11  позитивный      570 non-null    uint8  \n",
            "dtypes: float64(1), int64(2), object(5), uint8(4)\n",
            "memory usage: 38.0+ KB\n"
          ],
          "name": "stdout"
        }
      ]
    },
    {
      "cell_type": "markdown",
      "metadata": {
        "id": "s55eepGksClV"
      },
      "source": [
        "### Defining Text Pre-Processing"
      ]
    },
    {
      "cell_type": "code",
      "metadata": {
        "id": "kB1DRNO9sClV"
      },
      "source": [
        "\n",
        "stop_words = set(stopwords.words('russian'))\n",
        "\n",
        "def concatenate_list_data(lst):\n",
        "    result = ''\n",
        "    for element in lst:\n",
        "        result += str(element)\n",
        "        result += ' '\n",
        "    return result\n",
        "\n",
        "def pre_process(text, legacy):\n",
        "\n",
        "    filtered_words = ['']*len(text)\n",
        "    stemmer = WordNetLemmatizer\n",
        "    document = str(text)\n",
        "    text.strip(\"/\")\n",
        "\n",
        "    document = re.sub(r'\\W', ' ', document)\n",
        "    document = re.sub(\"_\", \"\", document)\n",
        "    document = re.sub(\"-\", \"\", document)\n",
        "    document = ''.join([i for i in document if not i.isdigit()])\n",
        "    document = re.sub(r'\\s+[a-zA-Z]\\s+', ' ', document)\n",
        "    document = re.sub(r'\\^[a-zA-Z]\\s+', ' ', document)\n",
        "    document = re.sub(r'\\s+', ' ', document, flags=re.I)\n",
        "    document = re.sub(r'^b\\s+', '', document)\n",
        "    document = document.lower()\n",
        "\n",
        "    word_tokens = word_tokenize(document)\n",
        "    filtered_words = [w for w in word_tokens if not w in stop_words]\n",
        "    document = concatenate_list_data(filtered_words)\n",
        "\n",
        "\n",
        "    return document"
      ],
      "execution_count": null,
      "outputs": []
    },
    {
      "cell_type": "code",
      "metadata": {
        "id": "FsZ2wRg8sClV",
        "colab": {
          "base_uri": "https://localhost:8080/"
        },
        "outputId": "1988727b-74e4-43c3-ff3c-19b0f3f2c9dc"
      },
      "source": [
        "text = 'Не нравится ничего мне в вашем приложении 50 - уйду от Вас'\n",
        "\n",
        "legacy = ''\n",
        "\n",
        "\n",
        "text.strip(\"/\")\n",
        "legacy.strip(\"/\")\n",
        "\n",
        "document = re.sub(legacy, '', str(text))\n",
        "\n",
        "document = re.sub(r'\\W', ' ', document)\n",
        "document = re.sub(\"_\", \"\", document)\n",
        "document = re.sub(\"-\", \"\", document)\n",
        "document = ''.join([i for i in document if not i.isdigit()])\n",
        "document = re.sub(r'\\s+[a-zA-Z]\\s+', ' ', document)\n",
        "document = re.sub(r'\\^[a-zA-Z]\\s+', ' ', document)\n",
        "document = re.sub(r'\\s+', ' ', document, flags=re.I)\n",
        "document = re.sub(r'^b\\s+', '', document)\n",
        "document = document.lower()\n",
        "\n",
        "word_tokens = word_tokenize(document)\n",
        "filtered_words = [w for w in word_tokens if not w in stop_words]\n",
        "document = concatenate_list_data(filtered_words)\n",
        "\n",
        "\n",
        "print(document)"
      ],
      "execution_count": null,
      "outputs": [
        {
          "output_type": "stream",
          "text": [
            "нравится вашем приложении уйду \n"
          ],
          "name": "stdout"
        }
      ]
    },
    {
      "cell_type": "code",
      "metadata": {
        "id": "cu1NaVf2sClW",
        "colab": {
          "base_uri": "https://localhost:8080/",
          "height": 88
        },
        "outputId": "0d607006-162e-442c-fcfb-f18d103bfb58"
      },
      "source": [
        "\n",
        "pre_processed_text = ['']*len(df)\n",
        "for i in range(df.user_id.count()):\n",
        "    pre_processed_text[i] = pre_process(df.ISSUE_TEXT[i], df.characters[i])\n",
        "pre_processed_text[0]"
      ],
      "execution_count": null,
      "outputs": [
        {
          "output_type": "execute_result",
          "data": {
            "application/vnd.google.colaboratory.intrinsic+json": {
              "type": "string"
            },
            "text/plain": [
              "'восхитительный устаревший восхитительный невразумительный невразумительный ужасный хороший устаревший cупер хороший скучный круто круто тщедушный назойливый cупер невразумительный скучный круто современный хороший невразумительный ужасный восхитительный cупер хороший хороший восхитительный круто тщедушный тщедушный круто назойливый тщедушный тщедушный cупер невразумительный невразумительный устаревший ужасный восхитительный хороший хороший невразумительный ужасный хороший назойливый современный устаревший устаревший cупер хороший скучный устаревший ужасный круто современный круто восхитительный ужасный восхитительный современный тщедушный тщедушный хороший круто скучный круто ужасный невразумительный хороший современный устаревший хороший тщедушный тщедушный круто назойливый скучный ужасный ужасный невразумительный восхитительный cупер восхитительный устаревший восхитительный восхитительный круто невразумительный восхитительный восхитительный устаревший назойливый хороший тщедушный cупер хороший невразумительный невразумительный ужасный ужасный cупер скучный cупер современный хороший невразумительный круто cупер тщедушный назойливый устаревший устаревший cупер круто невразумительный круто тщедушный cупер тщедушный современный cупер круто ужасный устаревший современный назойливый хороший cупер круто cупер cупер круто скучный тщедушный круто тщедушный тщедушный круто cупер круто cупер cупер круто устаревший назойливый назойливый восхитительный устаревший круто невразумительный назойливый круто cупер восхитительный невразумительный современный хороший cупер ужасный невразумительный устаревший устаревший тщедушный восхитительный тщедушный современный назойливый современный невразумительный ужасный cупер хороший cупер cупер скучный скучный тщедушный ужасный ужасный устаревший скучный современный современный назойливый тщедушный невразумительный хороший невразумительный назойливый cупер восхитительный современный современный невразумительный скучный скучный хороший ужасный круто невразумительный ужасный ужасный cупер cупер восхитительный назойливый назойливый cупер устаревший cупер назойливый скучный тщедушный ужасный устаревший назойливый круто хороший назойливый невразумительный современный cупер невразумительный cупер невразумительный cупер ужасный назойливый скучный cупер круто восхитительный устаревший круто круто скучный устаревший устаревший скучный хороший ужасный cупер хороший назойливый тщедушный современный восхитительный скучный назойливый тщедушный невразумительный тщедушный тщедушный тщедушный скучный современный ужасный невразумительный устаревший cупер ужасный современный современный современный тщедушный невразумительный назойливый круто cупер современный восхитительный устаревший cупер тщедушный cупер назойливый невразумительный назойливый cупер cупер cупер современный ужасный круто устаревший ужасный cупер круто восхитительный скучный современный восхитительный тщедушный современный ужасный ужасный устаревший невразумительный восхитительный назойливый скучный тщедушный круто ужасный тщедушный круто скучный cупер скучный ужасный назойливый cупер хороший назойливый скучный круто устаревший скучный устаревший современный восхитительный восхитительный хороший восхитительный невразумительный восхитительный невразумительный ужасный скучный скучный ужасный скучный восхитительный скучный современный cупер хороший круто восхитительный скучный круто cупер хороший хороший назойливый скучный ужасный назойливый устаревший устаревший устаревший cупер тщедушный cупер хороший скучный cупер устаревший хороший устаревший современный восхитительный тщедушный восхитительный хороший ужасный cупер восхитительный тщедушный cупер скучный невразумительный современный хороший скучный современный тщедушный скучный устаревший современный восхитительный cупер скучный cупер невразумительный невразумительный ужасный назойливый восхитительный невразумительный cупер ужасный ужасный устаревший тщедушный назойливый скучный тщедушный скучный ужасный круто cупер современный cупер круто круто назойливый современный современный назойливый ужасный скучный восхитительный невразумительный устаревший cупер назойливый восхитительный тщедушный устаревший хороший назойливый назойливый скучныйтщедушный круто ужасный современный назойливый назойливый устаревший ужасный восхитительный назойливый скучный современный скучный круто назойливый невразумительный тщедушный восхитительный скучный тщедушный восхитительный невразумительный назойливый тщедушный тщедушный современный хороший хороший невразумительный устаревший тщедушный назойливый устаревший тщедушный устаревший ужасный назойливый ужасный современный современный тщедушный современный круто тщедушный невразумительный назойливый современный назойливый тщедушный ужасный ужасный устаревший хороший скучный cупер хороший хороший круто cупер круто круто хороший восхитительный хороший круто устаревший устаревший невразумительный устаревший восхитительный cупер тщедушный устаревший устаревший невразумительный устаревший тщедушный современный хороший восхитительный cупер невразумительный круто восхитительный ужасный cупер скучный хороший современный хороший ужасный круто cупер ужасный восхитительный cупер тщедушный назойливый скучный круто восхитительный восхитительный восхитительный тщедушный современный тщедушный cупер скучный тщедушный устаревший хороший назойливый круто скучный тщедушный тщедушный хороший тщедушный невразумительный скучный cупер устаревший скучный хороший скучный скучный устаревший невразумительный хороший хороший cупер назойливый назойливый устаревший круто восхитительный современный устаревший хороший современный невразумительный устаревший восхитительный устаревший cупер ужасный круто ужасный скучный хороший скучный невразумительный хороший круто назойливый cупер круто восхитительный ужасный невразумительный назойливый ужасный cупер невразумительный современный круто ужасный скучный ужасный назойливый круто круто cупер круто невразумительный круто назойливый назойливый назойливый устаревший невразумительный ужасный современный хороший устаревший невразумительный тщедушный ужасный невразумительный cупер круто ужасный скучный современный тщедушный невразумительный круто современный скучный хороший ужасный хороший современный невразумительный хороший современный восхитительный круто скучный тщедушный ужасный хороший тщедушный круто ужасный ужасный назойливый современный хороший cупер cупер скучный устаревший скучный устаревший невразумительный хороший назойливый тщедушный круто современный хороший тщедушный устаревший устаревший скучный ужасный хороший назойливый скучный восхитительный cупер назойливый современный назойливый cупер скучный скучный назойливый восхитительный хороший современный восхитительный невразумительный круто восхитительный современный скучный устаревший невразумительный скучный устаревший назойливый скучный скучный устаревший cупер ужасный невразумительный невразумительный назойливый тщедушный восхитительный скучный хороший хороший современный невразумительный восхитительный круто cупер назойливый восхитительный назойливый скучный современный скучный скучный ужасный ужасный тщедушный современный ужасный устаревший круто круто современный невразумительный современный современный тщедушный устаревший невразумительный cупер современный cупер устаревший современный устаревший тщедушный хороший назойливый восхитительный современный тщедушный восхитительный круто восхитительный хороший современный скучный современный восхитительный современный тщедушный устаревший невразумительный современный скучный современный назойливый невразумительный скучный cупер невразумительный современный невразумительный невразумительный хороший назойливый хороший cупер ужасный невразумительный скучный тщедушный устаревший cупер ужасный круто скучный ужасный круто ужасный скучный назойливый скучный хороший скучный хороший современный круто скучный круто скучный ужасный назойливый тщедушный ужасный устаревший cупер назойливый cупер назойливый скучный скучный назойливый скучный хороший тщедушный cупер cупер ужасный невразумительный невразумительный современный скучный cупер устаревший тщедушный хороший cупер тщедушный тщедушный устаревший невразумительный скучный хороший ужасный тщедушный современный восхитительный устаревший восхитительный ужасный хороший устаревший cупер хороший невразумительный круто тщедушный тщедушный тщедушный '"
            ]
          },
          "metadata": {
            "tags": []
          },
          "execution_count": 20
        }
      ]
    },
    {
      "cell_type": "code",
      "metadata": {
        "id": "8uZR_vU-sClW"
      },
      "source": [
        "le = preprocessing.LabelEncoder()\n",
        "le.fit(df.LABEL)\n",
        "le.classes_\n",
        "normalized_label = le.transform(df.LABEL)\n"
      ],
      "execution_count": null,
      "outputs": []
    },
    {
      "cell_type": "code",
      "metadata": {
        "id": "AdwfA_H_sClW"
      },
      "source": [
        "X = pre_processed_text \n"
      ],
      "execution_count": null,
      "outputs": []
    },
    {
      "cell_type": "code",
      "metadata": {
        "id": "KEQzGo5MsClX"
      },
      "source": [
        "y = df['позитивный']"
      ],
      "execution_count": null,
      "outputs": []
    },
    {
      "cell_type": "code",
      "metadata": {
        "jupyter": {
          "outputs_hidden": true
        },
        "id": "X8OUuUYUsClX",
        "colab": {
          "base_uri": "https://localhost:8080/"
        },
        "outputId": "5fc966d8-b56a-4754-e4f3-9ab5e6ca3ad8"
      },
      "source": [
        "X_train, X_test, y_train, y_test = train_test_split (\n",
        "                                    X, y, test_size = 0.2, random_state = 42,\n",
        "                                    stratify = normalized_label)\n",
        "y_train"
      ],
      "execution_count": null,
      "outputs": [
        {
          "output_type": "execute_result",
          "data": {
            "text/plain": [
              "18     1\n",
              "133    0\n",
              "47     0\n",
              "555    0\n",
              "417    1\n",
              "      ..\n",
              "111    0\n",
              "342    0\n",
              "148    0\n",
              "477    1\n",
              "324    0\n",
              "Name: позитивный, Length: 456, dtype: uint8"
            ]
          },
          "metadata": {
            "tags": []
          },
          "execution_count": 24
        }
      ]
    },
    {
      "cell_type": "code",
      "metadata": {
        "colab": {
          "base_uri": "https://localhost:8080/"
        },
        "id": "8nGzv_mVv92u",
        "outputId": "75c5ea4b-fd64-4113-fa1d-41e5bf558f9a"
      },
      "source": [
        "X_train"
      ],
      "execution_count": null,
      "outputs": []
    },
    {
      "cell_type": "code",
      "metadata": {
        "id": "spubKxCIsClX"
      },
      "source": [
        "tfidf_vect = TfidfVectorizer(max_df = 0.85, stop_words = stopwords.words('russian'))\n",
        "xtrain_tfidf2 = tfidf_vect.fit_transform(X_train)\n",
        "xtrain_tfidf = tfidf_vect.fit_transform(X_train).toarray()\n",
        "xtest_tfidf = tfidf_vect.transform(X_test).toarray()"
      ],
      "execution_count": null,
      "outputs": []
    },
    {
      "cell_type": "code",
      "metadata": {
        "id": "9nYPRa-4sE6R"
      },
      "source": [
        "type(xtrain_tfidf2)\r\n",
        "xtrain_tfidf2 = pd.DataFrame(xtrain_tfidf)\r\n",
        "xtest_tfidf2 = pd.DataFrame(xtest_tfidf)\r\n",
        "\r\n",
        "df3 = pd.concat([df[['age', 'purchase_value']][:456], xtrain_tfidf2], axis = 1)\r\n",
        "df3.isna().sum()\r\n",
        "df2 = pd.concat([df[['age', 'purchase_value']][456:], xtest_tfidf2 ], axis = 1)\r\n",
        "xtest_tfidf2  = df2\r\n"
      ],
      "execution_count": null,
      "outputs": []
    },
    {
      "cell_type": "code",
      "metadata": {
        "id": "1V3Zq8tGsClX",
        "colab": {
          "base_uri": "https://localhost:8080/"
        },
        "outputId": "6d124860-4513-4f18-a203-c0c6fe6c42f6"
      },
      "source": [
        "xtrain_tfidf.shape, xtest_tfidf.shape"
      ],
      "execution_count": null,
      "outputs": [
        {
          "output_type": "execute_result",
          "data": {
            "text/plain": [
              "((456, 2), (114, 2))"
            ]
          },
          "metadata": {
            "tags": []
          },
          "execution_count": 28
        }
      ]
    },
    {
      "cell_type": "code",
      "metadata": {
        "id": "b0UtslhNsClX"
      },
      "source": [
        "sm = SMOTE(random_state = 42)\n",
        "sm_xtrain_tfidf, sm_train_y = sm.fit_sample(xtrain_tfidf, y_train)"
      ],
      "execution_count": null,
      "outputs": []
    },
    {
      "cell_type": "code",
      "metadata": {
        "id": "COHNSsR6sClX",
        "colab": {
          "base_uri": "https://localhost:8080/"
        },
        "outputId": "051f06b1-28d5-4d48-b6c7-273e8302d49c"
      },
      "source": [
        "np.random.seed(42)\n",
        "best_val_score = 0\n",
        "best_clf = None\n",
        "for clf in [LogisticRegression, LinearSVC, SGDClassifier]:\n",
        "    clf_pipeline = Pipeline(\n",
        "                            [\n",
        "                                #(\"vectorizer\", TfidfVectorizer(max_df = 0.85, \n",
        "                            #                                stop_words = stopwords.words('english'))),\n",
        "                                (\"classifier\", clf())\n",
        "                            ]\n",
        "                            )\n",
        "    val_score = cross_val_score(clf_pipeline, sm_xtrain_tfidf, sm_train_y).mean()\n",
        "    print(clf)\n",
        "    print(val_score)\n",
        "    if val_score > best_val_score:\n",
        "        best_val_score = val_score\n",
        "        best_clf = clf\n",
        "    print(\"\\n\")\n",
        "    \n",
        "print('Best:')\n",
        "print(best_val_score)\n",
        "print(best_clf)"
      ],
      "execution_count": null,
      "outputs": [
        {
          "output_type": "stream",
          "text": [
            "<class 'sklearn.linear_model._logistic.LogisticRegression'>\n",
            "0.4985611510791367\n",
            "\n",
            "\n",
            "<class 'sklearn.svm._classes.LinearSVC'>\n",
            "0.4985611510791367\n",
            "\n",
            "\n",
            "<class 'sklearn.linear_model._stochastic_gradient.SGDClassifier'>\n",
            "0.5\n",
            "\n",
            "\n",
            "Best:\n",
            "0.5\n",
            "<class 'sklearn.linear_model._stochastic_gradient.SGDClassifier'>\n"
          ],
          "name": "stdout"
        }
      ]
    },
    {
      "cell_type": "code",
      "metadata": {
        "id": "Qt9QQR0UsClY",
        "colab": {
          "base_uri": "https://localhost:8080/"
        },
        "outputId": "b5a8db3c-b7d1-4399-a5a2-2693886e19b3"
      },
      "source": [
        "best_clf_pipeline = Pipeline(\n",
        "                            [\n",
        "                                 (\"classifier\", best_clf())\n",
        "                            ]\n",
        "                        )\n",
        "best_clf_pipeline.fit(xtrain_tfidf, y_train)\n",
        "# best_clf_pipeline.fit(xtrain_tfidf, y_test)"
      ],
      "execution_count": null,
      "outputs": [
        {
          "output_type": "execute_result",
          "data": {
            "text/plain": [
              "Pipeline(memory=None,\n",
              "         steps=[('classifier',\n",
              "                 SGDClassifier(alpha=0.0001, average=False, class_weight=None,\n",
              "                               early_stopping=False, epsilon=0.1, eta0=0.0,\n",
              "                               fit_intercept=True, l1_ratio=0.15,\n",
              "                               learning_rate='optimal', loss='hinge',\n",
              "                               max_iter=1000, n_iter_no_change=5, n_jobs=None,\n",
              "                               penalty='l2', power_t=0.5, random_state=None,\n",
              "                               shuffle=True, tol=0.001, validation_fraction=0.1,\n",
              "                               verbose=0, warm_start=False))],\n",
              "         verbose=False)"
            ]
          },
          "metadata": {
            "tags": []
          },
          "execution_count": 31
        }
      ]
    },
    {
      "cell_type": "code",
      "metadata": {
        "id": "ikNDH6mEsClY",
        "colab": {
          "base_uri": "https://localhost:8080/"
        },
        "outputId": "eb5cd4a4-bf2c-4624-ff60-c9caf5bc6ba0"
      },
      "source": [
        "Actual_Risk_Type = y_test.tolist()\n",
        "Predicted_Risk_Type = (best_clf_pipeline.predict(xtest_tfidf))\n",
        "matches = 0\n",
        "match_list = []\n",
        "for i in range (len(xtest_tfidf)):\n",
        "    if(Actual_Risk_Type[i] == Predicted_Risk_Type[i]):\n",
        "        matches+=1\n",
        "        match_list.append(i)\n",
        "Accuracy = round(matches/len(xtest_tfidf), 2)\n",
        "print(\"{} is the model accuracy\".format(Accuracy))\n",
        "print(Actual_Risk_Type)\n",
        "print(Predicted_Risk_Type)"
      ],
      "execution_count": null,
      "outputs": [
        {
          "output_type": "stream",
          "text": [
            "0.75 is the model accuracy\n",
            "[0, 0, 0, 0, 0, 0, 0, 0, 1, 0, 1, 1, 0, 0, 0, 0, 0, 0, 1, 0, 0, 1, 0, 0, 1, 0, 0, 1, 0, 0, 0, 1, 0, 0, 0, 0, 0, 0, 0, 0, 0, 0, 0, 1, 0, 0, 1, 1, 0, 0, 1, 1, 0, 0, 0, 0, 0, 1, 0, 0, 0, 0, 0, 0, 1, 1, 1, 0, 0, 0, 0, 0, 0, 1, 0, 0, 0, 0, 0, 0, 0, 0, 0, 0, 1, 0, 1, 1, 0, 1, 0, 1, 0, 0, 0, 0, 0, 0, 0, 0, 0, 0, 1, 0, 1, 1, 0, 0, 1, 1, 0, 0, 0, 0]\n",
            "[0 0 0 0 0 0 0 0 0 0 0 0 0 0 0 0 0 0 0 0 0 0 0 0 0 0 0 0 0 0 0 0 0 0 0 0 0\n",
            " 0 0 0 0 0 0 0 0 0 0 0 0 0 0 0 0 0 0 0 0 0 0 0 0 0 0 0 0 0 0 0 0 0 0 0 0 0\n",
            " 0 0 0 0 0 0 0 0 0 0 0 0 0 0 0 0 0 0 0 0 0 0 0 0 0 0 0 0 0 0 0 0 0 0 0 0 0\n",
            " 0 0 0]\n"
          ],
          "name": "stdout"
        }
      ]
    },
    {
      "cell_type": "code",
      "metadata": {
        "id": "oF9KeRgysClY"
      },
      "source": [
        "from sklearn.metrics import classification_report"
      ],
      "execution_count": null,
      "outputs": []
    },
    {
      "cell_type": "code",
      "metadata": {
        "id": "bu2GJ5y1sClZ",
        "colab": {
          "base_uri": "https://localhost:8080/"
        },
        "outputId": "e10560e7-84f5-4bbf-e714-f5c6bdab1f4d"
      },
      "source": [
        "print(classification_report(Actual_Risk_Type, Predicted_Risk_Type, digits=3))"
      ],
      "execution_count": null,
      "outputs": [
        {
          "output_type": "stream",
          "text": [
            "              precision    recall  f1-score   support\n",
            "\n",
            "           0      0.754     1.000     0.860        86\n",
            "           1      0.000     0.000     0.000        28\n",
            "\n",
            "    accuracy                          0.754       114\n",
            "   macro avg      0.377     0.500     0.430       114\n",
            "weighted avg      0.569     0.754     0.649       114\n",
            "\n"
          ],
          "name": "stdout"
        }
      ]
    },
    {
      "cell_type": "code",
      "metadata": {
        "colab": {
          "base_uri": "https://localhost:8080/"
        },
        "id": "v5oAoIvo9wlx",
        "outputId": "6d4eae58-4582-4d06-8991-09a3b15bc500"
      },
      "source": [
        "match_list\r\n",
        "Xt = pd.DataFrame(X_test)\r\n",
        "\r\n",
        "match_list\r\n",
        "X = pd.DataFrame(X)\r\n",
        "\r\n",
        "index_list = X.index.tolist()\r\n",
        "values_list = X.values.tolist()\r\n",
        "values_list = enumerate(values_list)\r\n",
        "values_list_t = Xt.values.tolist()\r\n",
        "rec_list = [] \r\n",
        "for i in values_list:\r\n",
        "  if i[1] in values_list_t:\r\n",
        "    rec_list.append(i[0])\r\n",
        "recomend_list = []\r\n",
        "for i in rec_list:\r\n",
        "  recomendation = df.iloc[i]['user_id']\r\n",
        "  recomend_list.append(recomendation)\r\n",
        "print(f'ИТОГОВЫЙ СПИСОК USER_ID для рекомендации: {recomend_list}')"
      ],
      "execution_count": null,
      "outputs": [
        {
          "output_type": "stream",
          "text": [
            "ИТОГОВЫЙ СПИСОК USER_ID для рекомендации: [1.0, 2.0, 3.0, 4.0, 5.0, 6.0, 7.0, 8.0, 9.0, 10.0, 11.0, 12.0, 13.0, 14.0, 15.0, 16.0, 17.0, 18.0, 19.0, 20.0, 21.0, 22.0, 23.0, 24.0, 25.0, 26.0, 27.0, 28.0, 29.0, 30.0, 31.0, 32.0, 33.0, 34.0, 35.0, 36.0, 37.0, 38.0, 39.0, 40.0, 41.0, 42.0, 43.0, 44.0, 45.0, 46.0, 47.0, 48.0, 49.0, 50.0, 51.0, 52.0, 53.0, 54.0, 55.0, 56.0, 57.0, 58.0, 59.0, 60.0, 61.0, 62.0, 63.0, 64.0, 65.0, 66.0, 67.0, 68.0, 69.0, 70.0, 71.0, 72.0, 73.0, 74.0, 75.0, 76.0, 77.0, 78.0, 79.0, 80.0, 81.0, 82.0, 83.0, 84.0, 85.0, 86.0, 87.0, 88.0, 89.0, 90.0, 91.0, 92.0, 93.0, 94.0, 95.0, 96.0, 97.0, 98.0, 99.0, 100.0, 101.0, 102.0, 103.0, 104.0, 105.0, 106.0, 107.0, 108.0, 109.0, 110.0, 111.0, 112.0, 113.0, 114.0, 115.0, 116.0, 117.0, 118.0, 119.0, 120.0, 121.0, 122.0, 123.0, 124.0, 125.0, 126.0, 127.0, 128.0, 129.0, 130.0, 131.0, 132.0, 133.0, 134.0, 135.0, 136.0, 137.0, 138.0, 139.0, 140.0, 141.0, 142.0, 143.0, 144.0, 145.0, 146.0, 147.0, 148.0, 149.0, 150.0, 151.0, 152.0, 153.0, 154.0, 155.0, 156.0, 157.0, 158.0, 159.0, 160.0, 161.0, 162.0, 163.0, 164.0, 165.0, 166.0, 167.0, 168.0, 169.0, 170.0, 171.0, 172.0, 173.0, 174.0, 175.0, 176.0, 177.0, 178.0, 179.0, 180.0, 181.0, 182.0, 183.0, 184.0, 185.0, 186.0, 187.0, 188.0, 189.0, 190.0, 191.0, 192.0, 193.0, 194.0, 195.0, 196.0, 197.0, 198.0, 199.0, 200.0, 201.0, 202.0, 203.0, 204.0, 205.0, 206.0, 207.0, 208.0, 209.0, 210.0, 211.0, 212.0, 213.0, 214.0, 215.0, 216.0, 217.0, 218.0, 219.0, 220.0, 221.0, 222.0, 223.0, 224.0, 225.0, 226.0, 227.0, 228.0, 229.0, 230.0, 231.0, 232.0, 233.0, 234.0, 235.0, 236.0, 237.0, 238.0, 239.0, 240.0, 241.0, 242.0, 243.0, 244.0, 245.0, 246.0, 247.0, 248.0, 249.0, 250.0, 251.0, 252.0, 253.0, 254.0, 255.0, 256.0, 257.0, 258.0, 259.0, 260.0, 261.0, 262.0, 263.0, 264.0, 265.0, 266.0, 267.0, 268.0, 269.0, 270.0, 271.0, 272.0, 273.0, 274.0, 275.0, 276.0, 277.0, 278.0, 279.0, 280.0, 281.0, 282.0, 283.0, 284.0, 285.0, 286.0, 287.0, 288.0, 289.0, 290.0, 291.0, 292.0, 293.0, 294.0, 295.0, 296.0, 297.0, 298.0, 299.0, 300.0, 301.0, 302.0, 303.0, 304.0, 305.0, 306.0, 307.0, 308.0, 309.0, 310.0, 311.0, 312.0, 313.0, 314.0, 315.0, 316.0, 317.0, 318.0, 319.0, 320.0, 321.0, 322.0, 323.0, 324.0, 325.0, 326.0, 327.0, 328.0, 329.0, 330.0, 331.0, 332.0, 333.0, 334.0, 335.0, 336.0, 337.0, 338.0, 339.0, 340.0, 341.0, 342.0, 343.0, 344.0, 345.0, 346.0, 347.0, 348.0, 349.0, 350.0, 351.0, 352.0, 353.0, 354.0, 355.0, 356.0, 357.0, 358.0, 359.0, 360.0, 361.0, 362.0, 363.0, 364.0, 365.0, 366.0, 367.0, 368.0, 369.0, 370.0, 371.0, 372.0, 373.0, 374.0, 375.0, 376.0, 377.0, 378.0, 379.0, 380.0, 381.0, 382.0, 383.0, 384.0, 385.0, 386.0, 387.0, 388.0, 389.0, 390.0, 391.0, 392.0, 393.0, 394.0, 395.0, 396.0, 397.0, 398.0, 399.0, 400.0, 401.0, 402.0, 403.0, 404.0, 405.0, 406.0, 407.0, 408.0, 409.0, 410.0, 411.0, 412.0, 413.0, 414.0, 415.0, 416.0, 417.0, 418.0, 419.0, 420.0, 421.0, 422.0, 423.0, 424.0, 425.0, 426.0, 427.0, 428.0, 429.0, 430.0, 431.0, 432.0, 433.0, 434.0, 435.0, 436.0, 437.0, 438.0, 439.0, 440.0, 441.0, 442.0, 443.0, 444.0, 445.0, 446.0, 447.0, 448.0, 449.0, 450.0, 451.0, 452.0, 453.0, 454.0, 455.0, 456.0, 457.0, 458.0, 459.0, 460.0, 461.0, 462.0, 463.0, 464.0, 465.0, 466.0, 467.0, 468.0, 469.0, 470.0, 471.0, 472.0, 473.0, 474.0, 475.0, 476.0, 477.0, 478.0, 479.0, 480.0, 481.0, 482.0, 483.0, 484.0, 485.0, 486.0, 487.0, 488.0, 489.0, 490.0, 491.0, 492.0, 493.0, 494.0, 495.0, 496.0, 497.0, 498.0, 499.0, 500.0, 501.0, 502.0, 503.0, 504.0, 505.0, 506.0, 507.0, 508.0, 509.0, 510.0, 511.0, 512.0, 513.0, 514.0, 515.0, 516.0, 517.0, 518.0, 519.0, 520.0, 521.0, 522.0, 523.0, 524.0, 525.0, 526.0, 527.0, 528.0, 529.0, 530.0, 531.0, 532.0, 533.0, 534.0, 535.0, 536.0, 537.0, 538.0, 539.0, 540.0, 541.0, 542.0, 543.0, 544.0, 545.0, 546.0, 547.0, 548.0, 549.0, 550.0, 551.0, 552.0, 553.0, 554.0, 555.0, 556.0, 557.0, 558.0, 559.0, 560.0, 561.0, 562.0, 563.0, 564.0, 565.0, 9999.0, 9999.0, 9999.0, 9999.0]\n"
          ],
          "name": "stdout"
        }
      ]
    },
    {
      "cell_type": "code",
      "metadata": {
        "colab": {
          "base_uri": "https://localhost:8080/"
        },
        "id": "eMFrvTRv1wM1",
        "outputId": "af1e3df4-6b05-46b1-d668-d9f6c7c549d1"
      },
      "source": [
        "\"\"\"Получение весов слов для LABEL \"Положительный\"\"\"\r\n",
        "from sklearn.feature_extraction.text import TfidfVectorizer\r\n",
        "corpus = [\"This is very strange\",\r\n",
        "          \"This is very nice\"]\r\n",
        "vectorizer = TfidfVectorizer(\r\n",
        "                        use_idf=True, # utiliza o idf como peso, fazendo tf*idf\r\n",
        "                        norm=None, # normaliza os vetores\r\n",
        "                        smooth_idf=False, #soma 1 ao N e ao ni => idf = ln(N+1 / ni+1)\r\n",
        "                        sublinear_tf=False, #tf = 1+ln(tf)\r\n",
        "                        binary=False,\r\n",
        "                        min_df=1, max_df=1.0, max_features=None,\r\n",
        "                        strip_accents='unicode', # retira os acentos\r\n",
        "                        ngram_range=(1,1), preprocessor=None,              stop_words=None, tokenizer=None, vocabulary=None\r\n",
        "             )\r\n",
        "X = vectorizer.fit_transform(X_test)\r\n",
        "idf = vectorizer.idf_\r\n",
        "print(dict(zip(vectorizer.get_feature_names(), idf)))"
      ],
      "execution_count": null,
      "outputs": [
        {
          "output_type": "stream",
          "text": [
            "{'cупер': 1.0, 'восхитительныи': 1.0, 'круто': 1.0, 'назоиливыи': 1.0, 'невразумительныи': 1.0, 'скучныи': 1.0, 'скучныитщедушныи': 1.0, 'современныи': 1.0, 'тщедушныи': 1.0, 'ужасныи': 1.0, 'устаревшии': 1.0, 'хорошии': 1.0}\n"
          ],
          "name": "stdout"
        }
      ]
    }
  ]
}